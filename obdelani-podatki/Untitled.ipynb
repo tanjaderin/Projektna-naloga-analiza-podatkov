{
 "cells": [
  {
   "cell_type": "code",
   "execution_count": 1,
   "metadata": {},
   "outputs": [],
   "source": [
    "import pandas as pd\n",
    "import numpy as np\n",
    "import matplotlib.pyplot as plt\n",
    "%matplotlib inline\n",
    "import math"
   ]
  },
  {
   "cell_type": "code",
   "execution_count": 3,
   "metadata": {},
   "outputs": [
    {
     "data": {
      "text/html": [
       "<div>\n",
       "<style scoped>\n",
       "    .dataframe tbody tr th:only-of-type {\n",
       "        vertical-align: middle;\n",
       "    }\n",
       "\n",
       "    .dataframe tbody tr th {\n",
       "        vertical-align: top;\n",
       "    }\n",
       "\n",
       "    .dataframe thead th {\n",
       "        text-align: right;\n",
       "    }\n",
       "</style>\n",
       "<table border=\"1\" class=\"dataframe\">\n",
       "  <thead>\n",
       "    <tr style=\"text-align: right;\">\n",
       "      <th></th>\n",
       "      <th>ocena</th>\n",
       "      <th>ime</th>\n",
       "      <th>kategorija</th>\n",
       "      <th>objave</th>\n",
       "      <th>vpisani</th>\n",
       "      <th>ogledi</th>\n",
       "    </tr>\n",
       "    <tr>\n",
       "      <th>mesto</th>\n",
       "      <th></th>\n",
       "      <th></th>\n",
       "      <th></th>\n",
       "      <th></th>\n",
       "      <th></th>\n",
       "      <th></th>\n",
       "    </tr>\n",
       "  </thead>\n",
       "  <tbody>\n",
       "    <tr>\n",
       "      <td>1</td>\n",
       "      <td>A++</td>\n",
       "      <td>T-Series</td>\n",
       "      <td>music</td>\n",
       "      <td>13927</td>\n",
       "      <td>116.00</td>\n",
       "      <td>87011278231</td>\n",
       "    </tr>\n",
       "    <tr>\n",
       "      <td>2</td>\n",
       "      <td>A</td>\n",
       "      <td>PewDiePie</td>\n",
       "      <td>entertainment</td>\n",
       "      <td>3991</td>\n",
       "      <td>102.00</td>\n",
       "      <td>23798731725</td>\n",
       "    </tr>\n",
       "    <tr>\n",
       "      <td>4</td>\n",
       "      <td>A++</td>\n",
       "      <td>Cocomelon - Nursery Rhymes</td>\n",
       "      <td>education</td>\n",
       "      <td>469</td>\n",
       "      <td>63.80</td>\n",
       "      <td>42092956470</td>\n",
       "    </tr>\n",
       "    <tr>\n",
       "      <td>8</td>\n",
       "      <td>A</td>\n",
       "      <td>5-Minute Crafts</td>\n",
       "      <td>howto</td>\n",
       "      <td>3748</td>\n",
       "      <td>61.70</td>\n",
       "      <td>16163442260</td>\n",
       "    </tr>\n",
       "    <tr>\n",
       "      <td>9</td>\n",
       "      <td>A++</td>\n",
       "      <td>SET India</td>\n",
       "      <td>entertainment</td>\n",
       "      <td>33302</td>\n",
       "      <td>58.40</td>\n",
       "      <td>42305090305</td>\n",
       "    </tr>\n",
       "    <tr>\n",
       "      <td>...</td>\n",
       "      <td>...</td>\n",
       "      <td>...</td>\n",
       "      <td>...</td>\n",
       "      <td>...</td>\n",
       "      <td>...</td>\n",
       "      <td>...</td>\n",
       "    </tr>\n",
       "    <tr>\n",
       "      <td>4996</td>\n",
       "      <td>A-</td>\n",
       "      <td>Rels B / Flakk Daniel</td>\n",
       "      <td>music</td>\n",
       "      <td>93</td>\n",
       "      <td>2.36</td>\n",
       "      <td>818038001</td>\n",
       "    </tr>\n",
       "    <tr>\n",
       "      <td>4997</td>\n",
       "      <td>A-</td>\n",
       "      <td>India Today</td>\n",
       "      <td>news</td>\n",
       "      <td>76371</td>\n",
       "      <td>2.36</td>\n",
       "      <td>599401124</td>\n",
       "    </tr>\n",
       "    <tr>\n",
       "      <td>4998</td>\n",
       "      <td>B</td>\n",
       "      <td>THIS PROJECT IS RETIRED</td>\n",
       "      <td>music</td>\n",
       "      <td>35</td>\n",
       "      <td>2.36</td>\n",
       "      <td>582783297</td>\n",
       "    </tr>\n",
       "    <tr>\n",
       "      <td>4999</td>\n",
       "      <td>A-</td>\n",
       "      <td>GrayStillPlays</td>\n",
       "      <td>games</td>\n",
       "      <td>1941</td>\n",
       "      <td>2.37</td>\n",
       "      <td>576141917</td>\n",
       "    </tr>\n",
       "    <tr>\n",
       "      <td>5000</td>\n",
       "      <td>A-</td>\n",
       "      <td>Thai Fairy Tales</td>\n",
       "      <td>film</td>\n",
       "      <td>198</td>\n",
       "      <td>2.36</td>\n",
       "      <td>638894280</td>\n",
       "    </tr>\n",
       "  </tbody>\n",
       "</table>\n",
       "<p>4940 rows × 6 columns</p>\n",
       "</div>"
      ],
      "text/plain": [
       "      ocena                         ime     kategorija  objave  vpisani  \\\n",
       "mesto                                                                     \n",
       "1       A++                    T-Series          music   13927   116.00   \n",
       "2         A                   PewDiePie  entertainment    3991   102.00   \n",
       "4       A++  Cocomelon - Nursery Rhymes      education     469    63.80   \n",
       "8         A             5-Minute Crafts          howto    3748    61.70   \n",
       "9       A++                   SET India  entertainment   33302    58.40   \n",
       "...     ...                         ...            ...     ...      ...   \n",
       "4996     A-       Rels B / Flakk Daniel          music      93     2.36   \n",
       "4997     A-                 India Today           news   76371     2.36   \n",
       "4998      B     THIS PROJECT IS RETIRED          music      35     2.36   \n",
       "4999     A-              GrayStillPlays          games    1941     2.37   \n",
       "5000     A-            Thai Fairy Tales           film     198     2.36   \n",
       "\n",
       "            ogledi  \n",
       "mesto               \n",
       "1      87011278231  \n",
       "2      23798731725  \n",
       "4      42092956470  \n",
       "8      16163442260  \n",
       "9      42305090305  \n",
       "...            ...  \n",
       "4996     818038001  \n",
       "4997     599401124  \n",
       "4998     582783297  \n",
       "4999     576141917  \n",
       "5000     638894280  \n",
       "\n",
       "[4940 rows x 6 columns]"
      ]
     },
     "execution_count": 3,
     "metadata": {},
     "output_type": "execute_result"
    }
   ],
   "source": [
    "podatki = pd.read_csv('podatki.csv', index_col='mesto')\n",
    "pd.options.display.max_rows = 10\n",
    "podatki"
   ]
  },
  {
   "cell_type": "code",
   "execution_count": 19,
   "metadata": {},
   "outputs": [
    {
     "data": {
      "text/html": [
       "<div>\n",
       "<style scoped>\n",
       "    .dataframe tbody tr th:only-of-type {\n",
       "        vertical-align: middle;\n",
       "    }\n",
       "\n",
       "    .dataframe tbody tr th {\n",
       "        vertical-align: top;\n",
       "    }\n",
       "\n",
       "    .dataframe thead th {\n",
       "        text-align: right;\n",
       "    }\n",
       "</style>\n",
       "<table border=\"1\" class=\"dataframe\">\n",
       "  <thead>\n",
       "    <tr style=\"text-align: right;\">\n",
       "      <th></th>\n",
       "      <th>ocena</th>\n",
       "      <th>ime</th>\n",
       "      <th>kategorija</th>\n",
       "      <th>objave</th>\n",
       "      <th>vpisani</th>\n",
       "      <th>ogledi</th>\n",
       "    </tr>\n",
       "    <tr>\n",
       "      <th>mesto</th>\n",
       "      <th></th>\n",
       "      <th></th>\n",
       "      <th></th>\n",
       "      <th></th>\n",
       "      <th></th>\n",
       "      <th></th>\n",
       "    </tr>\n",
       "  </thead>\n",
       "  <tbody>\n",
       "    <tr>\n",
       "      <td>1</td>\n",
       "      <td>A++</td>\n",
       "      <td>T-Series</td>\n",
       "      <td>music</td>\n",
       "      <td>13927</td>\n",
       "      <td>116.00</td>\n",
       "      <td>87011278231</td>\n",
       "    </tr>\n",
       "    <tr>\n",
       "      <td>9</td>\n",
       "      <td>A++</td>\n",
       "      <td>SET India</td>\n",
       "      <td>entertainment</td>\n",
       "      <td>33302</td>\n",
       "      <td>58.40</td>\n",
       "      <td>42305090305</td>\n",
       "    </tr>\n",
       "    <tr>\n",
       "      <td>4</td>\n",
       "      <td>A++</td>\n",
       "      <td>Cocomelon - Nursery Rhymes</td>\n",
       "      <td>education</td>\n",
       "      <td>469</td>\n",
       "      <td>63.80</td>\n",
       "      <td>42092956470</td>\n",
       "    </tr>\n",
       "    <tr>\n",
       "      <td>11</td>\n",
       "      <td>A+</td>\n",
       "      <td>WWE</td>\n",
       "      <td>sports</td>\n",
       "      <td>44227</td>\n",
       "      <td>50.20</td>\n",
       "      <td>36777154026</td>\n",
       "    </tr>\n",
       "    <tr>\n",
       "      <td>23</td>\n",
       "      <td>A++</td>\n",
       "      <td>Zee TV</td>\n",
       "      <td>entertainment</td>\n",
       "      <td>80479</td>\n",
       "      <td>36.90</td>\n",
       "      <td>34354338112</td>\n",
       "    </tr>\n",
       "    <tr>\n",
       "      <td>...</td>\n",
       "      <td>...</td>\n",
       "      <td>...</td>\n",
       "      <td>...</td>\n",
       "      <td>...</td>\n",
       "      <td>...</td>\n",
       "      <td>...</td>\n",
       "    </tr>\n",
       "    <tr>\n",
       "      <td>4527</td>\n",
       "      <td>A-</td>\n",
       "      <td>NextFlix</td>\n",
       "      <td>NaN</td>\n",
       "      <td>6</td>\n",
       "      <td>2.52</td>\n",
       "      <td>38879</td>\n",
       "    </tr>\n",
       "    <tr>\n",
       "      <td>4319</td>\n",
       "      <td>C+</td>\n",
       "      <td>Gjigandet e Vegjel</td>\n",
       "      <td>NaN</td>\n",
       "      <td>6</td>\n",
       "      <td>2.61</td>\n",
       "      <td>27582</td>\n",
       "    </tr>\n",
       "    <tr>\n",
       "      <td>3161</td>\n",
       "      <td>C</td>\n",
       "      <td>Тех.Обзор</td>\n",
       "      <td>people</td>\n",
       "      <td>12</td>\n",
       "      <td>3.23</td>\n",
       "      <td>27498</td>\n",
       "    </tr>\n",
       "    <tr>\n",
       "      <td>2039</td>\n",
       "      <td>D-</td>\n",
       "      <td>NikiChiki - Детские пес�…</td>\n",
       "      <td>NaN</td>\n",
       "      <td>2</td>\n",
       "      <td>4.24</td>\n",
       "      <td>18049</td>\n",
       "    </tr>\n",
       "    <tr>\n",
       "      <td>4284</td>\n",
       "      <td>D</td>\n",
       "      <td>Luiz1227</td>\n",
       "      <td>games</td>\n",
       "      <td>1</td>\n",
       "      <td>2.62</td>\n",
       "      <td>10392</td>\n",
       "    </tr>\n",
       "  </tbody>\n",
       "</table>\n",
       "<p>4940 rows × 6 columns</p>\n",
       "</div>"
      ],
      "text/plain": [
       "      ocena                         ime     kategorija  objave  vpisani  \\\n",
       "mesto                                                                     \n",
       "1       A++                    T-Series          music   13927   116.00   \n",
       "9       A++                   SET India  entertainment   33302    58.40   \n",
       "4       A++  Cocomelon - Nursery Rhymes      education     469    63.80   \n",
       "11       A+                         WWE         sports   44227    50.20   \n",
       "23      A++                      Zee TV  entertainment   80479    36.90   \n",
       "...     ...                         ...            ...     ...      ...   \n",
       "4527     A-                    NextFlix            NaN       6     2.52   \n",
       "4319     C+          Gjigandet e Vegjel            NaN       6     2.61   \n",
       "3161      C                   Тех.Обзор         people      12     3.23   \n",
       "2039     D-   NikiChiki - Детские пес�…            NaN       2     4.24   \n",
       "4284      D                    Luiz1227          games       1     2.62   \n",
       "\n",
       "            ogledi  \n",
       "mesto               \n",
       "1      87011278231  \n",
       "9      42305090305  \n",
       "4      42092956470  \n",
       "11     36777154026  \n",
       "23     34354338112  \n",
       "...            ...  \n",
       "4527         38879  \n",
       "4319         27582  \n",
       "3161         27498  \n",
       "2039         18049  \n",
       "4284         10392  \n",
       "\n",
       "[4940 rows x 6 columns]"
      ]
     },
     "execution_count": 19,
     "metadata": {},
     "output_type": "execute_result"
    }
   ],
   "source": [
    "podatki.sort_values(['ogledi', 'ocena'], ascending=[False, True])"
   ]
  },
  {
   "cell_type": "code",
   "execution_count": 25,
   "metadata": {},
   "outputs": [
    {
     "data": {
      "text/plain": [
       "ocena\n",
       "A       695\n",
       "A+       32\n",
       "A++       8\n",
       "A-     1434\n",
       "B       895\n",
       "       ... \n",
       "C         5\n",
       "C+       39\n",
       "C-        1\n",
       "D         2\n",
       "D-       98\n",
       "Length: 12, dtype: int64"
      ]
     },
     "execution_count": 25,
     "metadata": {},
     "output_type": "execute_result"
    }
   ],
   "source": [
    "ocene = podatki.groupby('ocena')\n",
    "ocene.size()\n"
   ]
  },
  {
   "cell_type": "code",
   "execution_count": 26,
   "metadata": {},
   "outputs": [
    {
     "data": {
      "text/plain": [
       "[Text(0, 0.5, 'Število kanalov'), Text(0.5, 0, 'Ocena')]"
      ]
     },
     "execution_count": 26,
     "metadata": {},
     "output_type": "execute_result"
    },
    {
     "data": {
      "image/png": "[encoded data removed]",
      "text/plain": [
       "<Figure size 432x288 with 1 Axes>"
      ]
     },
     "metadata": {
      "needs_background": "light"
     },
     "output_type": "display_data"
    }
   ],
   "source": [
    "ocene.size().plot.bar(title='Število kanalov dane ocene').set(xlabel='Ocena', ylabel='Število kanalov')"
   ]
  },
  {
   "cell_type": "code",
   "execution_count": 6,
   "metadata": {},
   "outputs": [
    {
     "data": {
      "text/plain": [
       "<matplotlib.axes._subplots.AxesSubplot at 0x15e3650>"
      ]
     },
     "execution_count": 6,
     "metadata": {},
     "output_type": "execute_result"
    },
    {
     "data": {
      "image/png": "[encoded data removed]",
      "text/plain": [
       "<Figure size 1440x360 with 1 Axes>"
      ]
     },
     "metadata": {
      "needs_background": "light"
     },
     "output_type": "display_data"
    }
   ],
   "source": [
    "podatki['kategorija'].value_counts().head(20).plot(kind = 'bar', figsize=(20, 5), title='najbolj priljubljene kategorije')"
   ]
  },
  {
   "cell_type": "code",
   "execution_count": 14,
   "metadata": {},
   "outputs": [
    {
     "data": {
      "text/html": [
       "<div>\n",
       "<style scoped>\n",
       "    .dataframe tbody tr th:only-of-type {\n",
       "        vertical-align: middle;\n",
       "    }\n",
       "\n",
       "    .dataframe tbody tr th {\n",
       "        vertical-align: top;\n",
       "    }\n",
       "\n",
       "    .dataframe thead th {\n",
       "        text-align: right;\n",
       "    }\n",
       "</style>\n",
       "<table border=\"1\" class=\"dataframe\">\n",
       "  <thead>\n",
       "    <tr style=\"text-align: right;\">\n",
       "      <th></th>\n",
       "      <th>ocena</th>\n",
       "      <th>ime</th>\n",
       "      <th>kategorija</th>\n",
       "      <th>objave</th>\n",
       "      <th>vpisani</th>\n",
       "      <th>ogledi</th>\n",
       "    </tr>\n",
       "    <tr>\n",
       "      <th>mesto</th>\n",
       "      <th></th>\n",
       "      <th></th>\n",
       "      <th></th>\n",
       "      <th></th>\n",
       "      <th></th>\n",
       "      <th></th>\n",
       "    </tr>\n",
       "  </thead>\n",
       "  <tbody>\n",
       "    <tr>\n",
       "      <td>92</td>\n",
       "      <td>A++</td>\n",
       "      <td>ABS-CBN Entertainment</td>\n",
       "      <td>entertainment</td>\n",
       "      <td>131964</td>\n",
       "      <td>22.60</td>\n",
       "      <td>31129203571</td>\n",
       "    </tr>\n",
       "    <tr>\n",
       "      <td>106</td>\n",
       "      <td>A</td>\n",
       "      <td>TEDx Talks</td>\n",
       "      <td>nonprofit</td>\n",
       "      <td>143636</td>\n",
       "      <td>21.50</td>\n",
       "      <td>3853733551</td>\n",
       "    </tr>\n",
       "    <tr>\n",
       "      <td>174</td>\n",
       "      <td>A</td>\n",
       "      <td>ABP NEWS</td>\n",
       "      <td>news</td>\n",
       "      <td>131685</td>\n",
       "      <td>16.90</td>\n",
       "      <td>4146718113</td>\n",
       "    </tr>\n",
       "    <tr>\n",
       "      <td>204</td>\n",
       "      <td>A</td>\n",
       "      <td>IndiaTV</td>\n",
       "      <td>news</td>\n",
       "      <td>142573</td>\n",
       "      <td>15.50</td>\n",
       "      <td>5402333029</td>\n",
       "    </tr>\n",
       "    <tr>\n",
       "      <td>315</td>\n",
       "      <td>A</td>\n",
       "      <td>IGN</td>\n",
       "      <td>games</td>\n",
       "      <td>135087</td>\n",
       "      <td>12.50</td>\n",
       "      <td>9567019192</td>\n",
       "    </tr>\n",
       "    <tr>\n",
       "      <td>...</td>\n",
       "      <td>...</td>\n",
       "      <td>...</td>\n",
       "      <td>...</td>\n",
       "      <td>...</td>\n",
       "      <td>...</td>\n",
       "      <td>...</td>\n",
       "    </tr>\n",
       "    <tr>\n",
       "      <td>3597</td>\n",
       "      <td>A</td>\n",
       "      <td>SBS Entertainment</td>\n",
       "      <td>entertainment</td>\n",
       "      <td>206261</td>\n",
       "      <td>2.96</td>\n",
       "      <td>2377381729</td>\n",
       "    </tr>\n",
       "    <tr>\n",
       "      <td>4112</td>\n",
       "      <td>A-</td>\n",
       "      <td>VideoYoum7 | قناة اليوم �…</td>\n",
       "      <td>news</td>\n",
       "      <td>106510</td>\n",
       "      <td>2.70</td>\n",
       "      <td>1136024874</td>\n",
       "    </tr>\n",
       "    <tr>\n",
       "      <td>4294</td>\n",
       "      <td>A</td>\n",
       "      <td>SBS Drama</td>\n",
       "      <td>entertainment</td>\n",
       "      <td>339825</td>\n",
       "      <td>2.63</td>\n",
       "      <td>2538927806</td>\n",
       "    </tr>\n",
       "    <tr>\n",
       "      <td>4434</td>\n",
       "      <td>A</td>\n",
       "      <td>Polimer News</td>\n",
       "      <td>news</td>\n",
       "      <td>106110</td>\n",
       "      <td>2.57</td>\n",
       "      <td>1293498817</td>\n",
       "    </tr>\n",
       "    <tr>\n",
       "      <td>4552</td>\n",
       "      <td>A-</td>\n",
       "      <td>Manorama News</td>\n",
       "      <td>news</td>\n",
       "      <td>159462</td>\n",
       "      <td>2.51</td>\n",
       "      <td>1507363046</td>\n",
       "    </tr>\n",
       "  </tbody>\n",
       "</table>\n",
       "<p>27 rows × 6 columns</p>\n",
       "</div>"
      ],
      "text/plain": [
       "      ocena                         ime     kategorija  objave  vpisani  \\\n",
       "mesto                                                                     \n",
       "92      A++       ABS-CBN Entertainment  entertainment  131964    22.60   \n",
       "106       A                  TEDx Talks      nonprofit  143636    21.50   \n",
       "174       A                    ABP NEWS           news  131685    16.90   \n",
       "204       A                     IndiaTV           news  142573    15.50   \n",
       "315       A                         IGN          games  135087    12.50   \n",
       "...     ...                         ...            ...     ...      ...   \n",
       "3597      A           SBS Entertainment  entertainment  206261     2.96   \n",
       "4112     A-  VideoYoum7 | قناة اليوم �…           news  106510     2.70   \n",
       "4294      A                   SBS Drama  entertainment  339825     2.63   \n",
       "4434      A                Polimer News           news  106110     2.57   \n",
       "4552     A-               Manorama News           news  159462     2.51   \n",
       "\n",
       "            ogledi  \n",
       "mesto               \n",
       "92     31129203571  \n",
       "106     3853733551  \n",
       "174     4146718113  \n",
       "204     5402333029  \n",
       "315     9567019192  \n",
       "...            ...  \n",
       "3597    2377381729  \n",
       "4112    1136024874  \n",
       "4294    2538927806  \n",
       "4434    1293498817  \n",
       "4552    1507363046  \n",
       "\n",
       "[27 rows x 6 columns]"
      ]
     },
     "execution_count": 14,
     "metadata": {},
     "output_type": "execute_result"
    }
   ],
   "source": [
    "aktivni_youtuberji = podatki[podatki.objave >100000]\n",
    "aktivni_youtuberji"
   ]
  },
  {
   "cell_type": "code",
   "execution_count": 15,
   "metadata": {},
   "outputs": [
    {
     "data": {
      "text/plain": [
       "<matplotlib.axes._subplots.AxesSubplot at 0x170b1b0>"
      ]
     },
     "execution_count": 15,
     "metadata": {},
     "output_type": "execute_result"
    },
    {
     "data": {
      "image/png": "[encoded data removed]",
      "text/plain": [
       "<Figure size 1440x360 with 1 Axes>"
      ]
     },
     "metadata": {
      "needs_background": "light"
     },
     "output_type": "display_data"
    }
   ],
   "source": [
    "aktivni_youtuberji['kategorija'].value_counts().head(20).plot(kind = 'bar', figsize=(20, 5), title='najbolj priljubljene kategorije')"
   ]
  },
  {
   "cell_type": "code",
   "execution_count": 28,
   "metadata": {},
   "outputs": [
    {
     "data": {
      "text/plain": [
       "<matplotlib.axes._subplots.AxesSubplot at 0x184ecb0>"
      ]
     },
     "execution_count": 28,
     "metadata": {},
     "output_type": "execute_result"
    },
    {
     "data": {
      "image/png": "[encoded data removed]",
      "text/plain": [
       "<Figure size 432x288 with 1 Axes>"
      ]
     },
     "metadata": {
      "needs_background": "light"
     },
     "output_type": "display_data"
    }
   ],
   "source": [
    "podatki[objave]\n",
    "podatki.groupby('objave').size().plot()"
   ]
  },
  {
   "cell_type": "code",
   "execution_count": 10,
   "metadata": {},
   "outputs": [
    {
     "data": {
      "text/plain": [
       "<matplotlib.axes._subplots.AxesSubplot at 0x16b6730>"
      ]
     },
     "execution_count": 10,
     "metadata": {},
     "output_type": "execute_result"
    },
    {
     "data": {
      "image/png": "[encoded data removed]",
      "text/plain": [
       "<Figure size 1440x216 with 1 Axes>"
      ]
     },
     "metadata": {
      "needs_background": "light"
     },
     "output_type": "display_data"
    }
   ],
   "source": [
    "\n",
    "prvih_1000 = podatki.head(4000)\n",
    "podatki_vpisani = prvih_1000.groupby('vpisani')\n",
    "podatki_vpisani[['objave']].mean().plot(figsize=(20, 3))"
   ]
  }
 ],
 "metadata": {
  "kernelspec": {
   "display_name": "Python 3",
   "language": "python",
   "name": "python3"
  },
  "language_info": {
   "codemirror_mode": {
    "name": "ipython",
    "version": 3
   },
   "file_extension": ".py",
   "mimetype": "text/x-python",
   "name": "python",
   "nbconvert_exporter": "python",
   "pygments_lexer": "ipython3",
   "version": "3.7.4"
  }
 },
 "nbformat": 4,
 "nbformat_minor": 2
}
