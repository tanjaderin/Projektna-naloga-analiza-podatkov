{
 "cells": [
  {
   "cell_type": "markdown",
   "metadata": {},
   "source": [
    "# ANALIZA YOUTUBERJEV\n",
    "\n",
    "Iz spletne strani <a href=\"https://socialblade.com/youtube/top/5000/mostsubscribed\">podatki youtuberjev</a> sem pobrala podatke in jih zapisala v csv datoteko. Z analizo teh bom skušala ugotoviti povezavo med število vpisanih, ogledi, kategrijami ter oceno."
   ]
  },
  {
   "cell_type": "markdown",
   "metadata": {},
   "source": [
    "## Uvoz podatkov in osnovni pregled"
   ]
  },
  {
   "cell_type": "code",
   "execution_count": 21,
   "metadata": {},
   "outputs": [],
   "source": [
    "import pandas as pd\n",
    "import numpy as np\n",
    "import matplotlib.pyplot as plt\n",
    "%matplotlib inline\n",
    "import math"
   ]
  },
  {
   "cell_type": "markdown",
   "metadata": {},
   "source": [
    "Oglejmo si tabelo z vsemi podatki,ki je razvrščena po številu vpisanih. Iz nje lahko takoj dobimo nekaj zanimivih ugotovitev in povezav."
   ]
  },
  {
   "cell_type": "code",
   "execution_count": 62,
   "metadata": {},
   "outputs": [
    {
     "data": {
      "text/html": [
       "<div>\n",
       "<style scoped>\n",
       "    .dataframe tbody tr th:only-of-type {\n",
       "        vertical-align: middle;\n",
       "    }\n",
       "\n",
       "    .dataframe tbody tr th {\n",
       "        vertical-align: top;\n",
       "    }\n",
       "\n",
       "    .dataframe thead th {\n",
       "        text-align: right;\n",
       "    }\n",
       "</style>\n",
       "<table border=\"1\" class=\"dataframe\">\n",
       "  <thead>\n",
       "    <tr style=\"text-align: right;\">\n",
       "      <th></th>\n",
       "      <th>ocena</th>\n",
       "      <th>ime</th>\n",
       "      <th>kategorija</th>\n",
       "      <th>objave</th>\n",
       "      <th>vpisani</th>\n",
       "      <th>ogledi</th>\n",
       "    </tr>\n",
       "    <tr>\n",
       "      <th>mesto</th>\n",
       "      <th></th>\n",
       "      <th></th>\n",
       "      <th></th>\n",
       "      <th></th>\n",
       "      <th></th>\n",
       "      <th></th>\n",
       "    </tr>\n",
       "  </thead>\n",
       "  <tbody>\n",
       "    <tr>\n",
       "      <td>1</td>\n",
       "      <td>A++</td>\n",
       "      <td>T-Series</td>\n",
       "      <td>music</td>\n",
       "      <td>13927</td>\n",
       "      <td>116.00</td>\n",
       "      <td>87011278231</td>\n",
       "    </tr>\n",
       "    <tr>\n",
       "      <td>2</td>\n",
       "      <td>A</td>\n",
       "      <td>PewDiePie</td>\n",
       "      <td>entertainment</td>\n",
       "      <td>3991</td>\n",
       "      <td>102.00</td>\n",
       "      <td>23798731725</td>\n",
       "    </tr>\n",
       "    <tr>\n",
       "      <td>4</td>\n",
       "      <td>A++</td>\n",
       "      <td>Cocomelon - Nursery Rhymes</td>\n",
       "      <td>education</td>\n",
       "      <td>469</td>\n",
       "      <td>63.80</td>\n",
       "      <td>42092956470</td>\n",
       "    </tr>\n",
       "    <tr>\n",
       "      <td>8</td>\n",
       "      <td>A</td>\n",
       "      <td>5-Minute Crafts</td>\n",
       "      <td>howto</td>\n",
       "      <td>3748</td>\n",
       "      <td>61.70</td>\n",
       "      <td>16163442260</td>\n",
       "    </tr>\n",
       "    <tr>\n",
       "      <td>9</td>\n",
       "      <td>A++</td>\n",
       "      <td>SET India</td>\n",
       "      <td>entertainment</td>\n",
       "      <td>33302</td>\n",
       "      <td>58.40</td>\n",
       "      <td>42305090305</td>\n",
       "    </tr>\n",
       "    <tr>\n",
       "      <td>...</td>\n",
       "      <td>...</td>\n",
       "      <td>...</td>\n",
       "      <td>...</td>\n",
       "      <td>...</td>\n",
       "      <td>...</td>\n",
       "      <td>...</td>\n",
       "    </tr>\n",
       "    <tr>\n",
       "      <td>4996</td>\n",
       "      <td>A-</td>\n",
       "      <td>Rels B / Flakk Daniel</td>\n",
       "      <td>music</td>\n",
       "      <td>93</td>\n",
       "      <td>2.36</td>\n",
       "      <td>818038001</td>\n",
       "    </tr>\n",
       "    <tr>\n",
       "      <td>4997</td>\n",
       "      <td>A-</td>\n",
       "      <td>India Today</td>\n",
       "      <td>news</td>\n",
       "      <td>76371</td>\n",
       "      <td>2.36</td>\n",
       "      <td>599401124</td>\n",
       "    </tr>\n",
       "    <tr>\n",
       "      <td>4998</td>\n",
       "      <td>B</td>\n",
       "      <td>THIS PROJECT IS RETIRED</td>\n",
       "      <td>music</td>\n",
       "      <td>35</td>\n",
       "      <td>2.36</td>\n",
       "      <td>582783297</td>\n",
       "    </tr>\n",
       "    <tr>\n",
       "      <td>4999</td>\n",
       "      <td>A-</td>\n",
       "      <td>GrayStillPlays</td>\n",
       "      <td>games</td>\n",
       "      <td>1941</td>\n",
       "      <td>2.37</td>\n",
       "      <td>576141917</td>\n",
       "    </tr>\n",
       "    <tr>\n",
       "      <td>5000</td>\n",
       "      <td>A-</td>\n",
       "      <td>Thai Fairy Tales</td>\n",
       "      <td>film</td>\n",
       "      <td>198</td>\n",
       "      <td>2.36</td>\n",
       "      <td>638894280</td>\n",
       "    </tr>\n",
       "  </tbody>\n",
       "</table>\n",
       "<p>4940 rows × 6 columns</p>\n",
       "</div>"
      ],
      "text/plain": [
       "      ocena                         ime     kategorija  objave  vpisani  \\\n",
       "mesto                                                                     \n",
       "1       A++                    T-Series          music   13927   116.00   \n",
       "2         A                   PewDiePie  entertainment    3991   102.00   \n",
       "4       A++  Cocomelon - Nursery Rhymes      education     469    63.80   \n",
       "8         A             5-Minute Crafts          howto    3748    61.70   \n",
       "9       A++                   SET India  entertainment   33302    58.40   \n",
       "...     ...                         ...            ...     ...      ...   \n",
       "4996     A-       Rels B / Flakk Daniel          music      93     2.36   \n",
       "4997     A-                 India Today           news   76371     2.36   \n",
       "4998      B     THIS PROJECT IS RETIRED          music      35     2.36   \n",
       "4999     A-              GrayStillPlays          games    1941     2.37   \n",
       "5000     A-            Thai Fairy Tales           film     198     2.36   \n",
       "\n",
       "            ogledi  \n",
       "mesto               \n",
       "1      87011278231  \n",
       "2      23798731725  \n",
       "4      42092956470  \n",
       "8      16163442260  \n",
       "9      42305090305  \n",
       "...            ...  \n",
       "4996     818038001  \n",
       "4997     599401124  \n",
       "4998     582783297  \n",
       "4999     576141917  \n",
       "5000     638894280  \n",
       "\n",
       "[4940 rows x 6 columns]"
      ]
     },
     "execution_count": 62,
     "metadata": {},
     "output_type": "execute_result"
    }
   ],
   "source": [
    "podatki = pd.read_csv('podatki.csv', index_col='mesto')\n",
    "pd.options.display.max_rows = 20\n",
    "podatki"
   ]
  },
  {
   "cell_type": "code",
   "execution_count": 24,
   "metadata": {},
   "outputs": [
    {
     "data": {
      "text/plain": [
       "7"
      ]
     },
     "execution_count": 24,
     "metadata": {},
     "output_type": "execute_result"
    }
   ],
   "source": [
    "podatki[podatki.vpisani > 50.00].ime.count()"
   ]
  },
  {
   "cell_type": "markdown",
   "metadata": {},
   "source": [
    "Le 7 kanalov ima več kot 50M vpisanih, oglejmo si še kako se spreminja število vpisanih. Iz spodnjega grafa je razvidno, da število na začetku zelo hitro pada potem pa se le manjo spreminja, ko pridemo nekje pod 10 M vpisanih."
   ]
  },
  {
   "cell_type": "code",
   "execution_count": 195,
   "metadata": {},
   "outputs": [
    {
     "data": {
      "image/png": "[encoded data removed]",
      "text/plain": [
       "<Figure size 432x288 with 1 Axes>"
      ]
     },
     "metadata": {
      "needs_background": "light"
     },
     "output_type": "display_data"
    }
   ],
   "source": [
    "plt = podatki['vpisani'].plot(title=' Število vpisanih', fontsize=13)"
   ]
  },
  {
   "cell_type": "code",
   "execution_count": 194,
   "metadata": {},
   "outputs": [
    {
     "data": {
      "text/plain": [
       "<matplotlib.axes._subplots.AxesSubplot at 0x1bdd9690>"
      ]
     },
     "execution_count": 194,
     "metadata": {},
     "output_type": "execute_result"
    },
    {
     "data": {
      "image/png": "[encoded data removed]",
      "text/plain": [
       "<Figure size 360x360 with 1 Axes>"
      ]
     },
     "metadata": {
      "needs_background": "light"
     },
     "output_type": "display_data"
    }
   ],
   "source": [
    "#zaokrozimo na 10 miljonov in preštejemo kanale v vsakem razdelku\n",
    "podatki['zaokrozeni_vpisani'] = 10 * (podatki.vpisani // 10)\n",
    "podatki['zaokrozeni_vpisani'].value_counts().plot(kind = 'barh', figsize=(5, 5), title='stevilo vpisanih', fontsize = '12')"
   ]
  },
  {
   "cell_type": "markdown",
   "metadata": {},
   "source": [
    "To je potrdilo našo zgornjo ugotovitev, vidimo namreč, da več kot 4500 kanalov ima manj kot 10 M vpisanih."
   ]
  },
  {
   "cell_type": "code",
   "execution_count": 25,
   "metadata": {},
   "outputs": [
    {
     "data": {
      "text/plain": [
       "91"
      ]
     },
     "execution_count": 25,
     "metadata": {},
     "output_type": "execute_result"
    }
   ],
   "source": [
    "podatki[podatki.ogledi > 10000000000 ].ime.count() "
   ]
  },
  {
   "cell_type": "markdown",
   "metadata": {},
   "source": [
    "## Razpored po ocenah"
   ]
  },
  {
   "cell_type": "code",
   "execution_count": 19,
   "metadata": {},
   "outputs": [
    {
     "data": {
      "text/html": [
       "<div>\n",
       "<style scoped>\n",
       "    .dataframe tbody tr th:only-of-type {\n",
       "        vertical-align: middle;\n",
       "    }\n",
       "\n",
       "    .dataframe tbody tr th {\n",
       "        vertical-align: top;\n",
       "    }\n",
       "\n",
       "    .dataframe thead th {\n",
       "        text-align: right;\n",
       "    }\n",
       "</style>\n",
       "<table border=\"1\" class=\"dataframe\">\n",
       "  <thead>\n",
       "    <tr style=\"text-align: right;\">\n",
       "      <th></th>\n",
       "      <th>ocena</th>\n",
       "      <th>ime</th>\n",
       "      <th>kategorija</th>\n",
       "      <th>objave</th>\n",
       "      <th>vpisani</th>\n",
       "      <th>ogledi</th>\n",
       "    </tr>\n",
       "    <tr>\n",
       "      <th>mesto</th>\n",
       "      <th></th>\n",
       "      <th></th>\n",
       "      <th></th>\n",
       "      <th></th>\n",
       "      <th></th>\n",
       "      <th></th>\n",
       "    </tr>\n",
       "  </thead>\n",
       "  <tbody>\n",
       "    <tr>\n",
       "      <td>1</td>\n",
       "      <td>A++</td>\n",
       "      <td>T-Series</td>\n",
       "      <td>music</td>\n",
       "      <td>13927</td>\n",
       "      <td>116.00</td>\n",
       "      <td>87011278231</td>\n",
       "    </tr>\n",
       "    <tr>\n",
       "      <td>9</td>\n",
       "      <td>A++</td>\n",
       "      <td>SET India</td>\n",
       "      <td>entertainment</td>\n",
       "      <td>33302</td>\n",
       "      <td>58.40</td>\n",
       "      <td>42305090305</td>\n",
       "    </tr>\n",
       "    <tr>\n",
       "      <td>4</td>\n",
       "      <td>A++</td>\n",
       "      <td>Cocomelon - Nursery Rhymes</td>\n",
       "      <td>education</td>\n",
       "      <td>469</td>\n",
       "      <td>63.80</td>\n",
       "      <td>42092956470</td>\n",
       "    </tr>\n",
       "    <tr>\n",
       "      <td>11</td>\n",
       "      <td>A+</td>\n",
       "      <td>WWE</td>\n",
       "      <td>sports</td>\n",
       "      <td>44227</td>\n",
       "      <td>50.20</td>\n",
       "      <td>36777154026</td>\n",
       "    </tr>\n",
       "    <tr>\n",
       "      <td>23</td>\n",
       "      <td>A++</td>\n",
       "      <td>Zee TV</td>\n",
       "      <td>entertainment</td>\n",
       "      <td>80479</td>\n",
       "      <td>36.90</td>\n",
       "      <td>34354338112</td>\n",
       "    </tr>\n",
       "    <tr>\n",
       "      <td>...</td>\n",
       "      <td>...</td>\n",
       "      <td>...</td>\n",
       "      <td>...</td>\n",
       "      <td>...</td>\n",
       "      <td>...</td>\n",
       "      <td>...</td>\n",
       "    </tr>\n",
       "    <tr>\n",
       "      <td>4527</td>\n",
       "      <td>A-</td>\n",
       "      <td>NextFlix</td>\n",
       "      <td>NaN</td>\n",
       "      <td>6</td>\n",
       "      <td>2.52</td>\n",
       "      <td>38879</td>\n",
       "    </tr>\n",
       "    <tr>\n",
       "      <td>4319</td>\n",
       "      <td>C+</td>\n",
       "      <td>Gjigandet e Vegjel</td>\n",
       "      <td>NaN</td>\n",
       "      <td>6</td>\n",
       "      <td>2.61</td>\n",
       "      <td>27582</td>\n",
       "    </tr>\n",
       "    <tr>\n",
       "      <td>3161</td>\n",
       "      <td>C</td>\n",
       "      <td>Тех.Обзор</td>\n",
       "      <td>people</td>\n",
       "      <td>12</td>\n",
       "      <td>3.23</td>\n",
       "      <td>27498</td>\n",
       "    </tr>\n",
       "    <tr>\n",
       "      <td>2039</td>\n",
       "      <td>D-</td>\n",
       "      <td>NikiChiki - Детские пес�…</td>\n",
       "      <td>NaN</td>\n",
       "      <td>2</td>\n",
       "      <td>4.24</td>\n",
       "      <td>18049</td>\n",
       "    </tr>\n",
       "    <tr>\n",
       "      <td>4284</td>\n",
       "      <td>D</td>\n",
       "      <td>Luiz1227</td>\n",
       "      <td>games</td>\n",
       "      <td>1</td>\n",
       "      <td>2.62</td>\n",
       "      <td>10392</td>\n",
       "    </tr>\n",
       "  </tbody>\n",
       "</table>\n",
       "<p>4940 rows × 6 columns</p>\n",
       "</div>"
      ],
      "text/plain": [
       "      ocena                         ime     kategorija  objave  vpisani  \\\n",
       "mesto                                                                     \n",
       "1       A++                    T-Series          music   13927   116.00   \n",
       "9       A++                   SET India  entertainment   33302    58.40   \n",
       "4       A++  Cocomelon - Nursery Rhymes      education     469    63.80   \n",
       "11       A+                         WWE         sports   44227    50.20   \n",
       "23      A++                      Zee TV  entertainment   80479    36.90   \n",
       "...     ...                         ...            ...     ...      ...   \n",
       "4527     A-                    NextFlix            NaN       6     2.52   \n",
       "4319     C+          Gjigandet e Vegjel            NaN       6     2.61   \n",
       "3161      C                   Тех.Обзор         people      12     3.23   \n",
       "2039     D-   NikiChiki - Детские пес�…            NaN       2     4.24   \n",
       "4284      D                    Luiz1227          games       1     2.62   \n",
       "\n",
       "            ogledi  \n",
       "mesto               \n",
       "1      87011278231  \n",
       "9      42305090305  \n",
       "4      42092956470  \n",
       "11     36777154026  \n",
       "23     34354338112  \n",
       "...            ...  \n",
       "4527         38879  \n",
       "4319         27582  \n",
       "3161         27498  \n",
       "2039         18049  \n",
       "4284         10392  \n",
       "\n",
       "[4940 rows x 6 columns]"
      ]
     },
     "execution_count": 19,
     "metadata": {},
     "output_type": "execute_result"
    }
   ],
   "source": [
    "podatki.sort_values(['ogledi', 'ocena'], ascending=[False, True])"
   ]
  },
  {
   "cell_type": "code",
   "execution_count": 54,
   "metadata": {},
   "outputs": [
    {
     "data": {
      "text/plain": [
       "ocena\n",
       "A       695\n",
       "A+       32\n",
       "A++       8\n",
       "A-     1434\n",
       "B       895\n",
       "B+     1606\n",
       "B-      125\n",
       "C         5\n",
       "C+       39\n",
       "C-        1\n",
       "D         2\n",
       "D-       98\n",
       "dtype: int64"
      ]
     },
     "execution_count": 54,
     "metadata": {},
     "output_type": "execute_result"
    }
   ],
   "source": [
    "ocene = podatki.groupby('ocena')\n",
    "ocene.size()"
   ]
  },
  {
   "cell_type": "markdown",
   "metadata": {},
   "source": [
    "Želimo izvedetei s kakšno oceno so večinoma ocenjeni kanali, ker je ocen veliko jih zberemo v štiri kategorije A, B, C, D."
   ]
  },
  {
   "cell_type": "code",
   "execution_count": 57,
   "metadata": {},
   "outputs": [],
   "source": [
    "ocena_A = podatki[(podatki.ocena == 'A')| (podatki.ocena == 'A+') | (podatki.ocena == 'A++') | (podatki.ocena == 'A-')]\n",
    "ocena_B = podatki[(podatki.ocena == 'B')| (podatki.ocena == 'B+') | (podatki.ocena == 'B-')]\n",
    "ocena_C = podatki[(podatki.ocena == 'C')| (podatki.ocena == 'C+') | (podatki.ocena == 'C-')]\n",
    "ocena_D = podatki[(podatki.ocena == 'D')| (podatki.ocena == 'D-')]"
   ]
  },
  {
   "cell_type": "code",
   "execution_count": 201,
   "metadata": {},
   "outputs": [
    {
     "data": {
      "text/plain": [
       "<matplotlib.axes._subplots.AxesSubplot at 0x1c0f8490>"
      ]
     },
     "execution_count": 201,
     "metadata": {},
     "output_type": "execute_result"
    },
    {
     "data": {
      "image/png": "[encoded data removed]",
      "text/plain": [
       "<Figure size 432x288 with 1 Axes>"
      ]
     },
     "metadata": {
      "needs_background": "light"
     },
     "output_type": "display_data"
    }
   ],
   "source": [
    "a = ocena_A.ime.count()\n",
    "b = ocena_B.ime.count()\n",
    "c = ocena_C.ime.count()\n",
    "d = ocena_D.ime.count()\n",
    "\n",
    "pogrupirana_ocena = {'A' : a,'B' : b,'C':c,'D':d }\n",
    "graf = pd.DataFrame.from_dict(pogrupirana_ocena, 'index')\n",
    "graf.columns = ['število ocenjenih']\n",
    "graf.plot(kind = 'bar')\n"
   ]
  },
  {
   "cell_type": "markdown",
   "metadata": {},
   "source": [
    "Tako lahko hitro opazimo, da je največ ocenjih z B takoj za tem pa z oceno A, kar je nekako pričakovan, da so kanali z največ vpisanimi tudi najbolj priljubljeni oz. dobro ocenjeni."
   ]
  },
  {
   "cell_type": "code",
   "execution_count": 81,
   "metadata": {},
   "outputs": [
    {
     "name": "stderr",
     "output_type": "stream",
     "text": [
      "C:\\Users\\tanja\\AppData\\Roaming\\Python\\Python36\\site-packages\\ipykernel_launcher.py:2: UserWarning: Boolean Series key will be reindexed to match DataFrame index.\n",
      "  \n"
     ]
    },
    {
     "data": {
      "text/html": [
       "<div>\n",
       "<style scoped>\n",
       "    .dataframe tbody tr th:only-of-type {\n",
       "        vertical-align: middle;\n",
       "    }\n",
       "\n",
       "    .dataframe tbody tr th {\n",
       "        vertical-align: top;\n",
       "    }\n",
       "\n",
       "    .dataframe thead th {\n",
       "        text-align: right;\n",
       "    }\n",
       "</style>\n",
       "<table border=\"1\" class=\"dataframe\">\n",
       "  <thead>\n",
       "    <tr style=\"text-align: right;\">\n",
       "      <th></th>\n",
       "      <th>ocena</th>\n",
       "      <th>ime</th>\n",
       "      <th>kategorija</th>\n",
       "      <th>objave</th>\n",
       "      <th>vpisani</th>\n",
       "      <th>ogledi</th>\n",
       "    </tr>\n",
       "    <tr>\n",
       "      <th>mesto</th>\n",
       "      <th></th>\n",
       "      <th></th>\n",
       "      <th></th>\n",
       "      <th></th>\n",
       "      <th></th>\n",
       "      <th></th>\n",
       "    </tr>\n",
       "  </thead>\n",
       "  <tbody>\n",
       "    <tr>\n",
       "      <td>1</td>\n",
       "      <td>A++</td>\n",
       "      <td>T-Series</td>\n",
       "      <td>music</td>\n",
       "      <td>13927</td>\n",
       "      <td>116.0</td>\n",
       "      <td>87011278231</td>\n",
       "    </tr>\n",
       "    <tr>\n",
       "      <td>2</td>\n",
       "      <td>A</td>\n",
       "      <td>PewDiePie</td>\n",
       "      <td>entertainment</td>\n",
       "      <td>3991</td>\n",
       "      <td>102.0</td>\n",
       "      <td>23798731725</td>\n",
       "    </tr>\n",
       "    <tr>\n",
       "      <td>4</td>\n",
       "      <td>A++</td>\n",
       "      <td>Cocomelon - Nursery Rhymes</td>\n",
       "      <td>education</td>\n",
       "      <td>469</td>\n",
       "      <td>63.8</td>\n",
       "      <td>42092956470</td>\n",
       "    </tr>\n",
       "    <tr>\n",
       "      <td>8</td>\n",
       "      <td>A</td>\n",
       "      <td>5-Minute Crafts</td>\n",
       "      <td>howto</td>\n",
       "      <td>3748</td>\n",
       "      <td>61.7</td>\n",
       "      <td>16163442260</td>\n",
       "    </tr>\n",
       "    <tr>\n",
       "      <td>9</td>\n",
       "      <td>A++</td>\n",
       "      <td>SET India</td>\n",
       "      <td>entertainment</td>\n",
       "      <td>33302</td>\n",
       "      <td>58.4</td>\n",
       "      <td>42305090305</td>\n",
       "    </tr>\n",
       "    <tr>\n",
       "      <td>10</td>\n",
       "      <td>A+</td>\n",
       "      <td>Canal KondZilla</td>\n",
       "      <td>music</td>\n",
       "      <td>1213</td>\n",
       "      <td>52.9</td>\n",
       "      <td>26950843861</td>\n",
       "    </tr>\n",
       "    <tr>\n",
       "      <td>11</td>\n",
       "      <td>A+</td>\n",
       "      <td>WWE</td>\n",
       "      <td>sports</td>\n",
       "      <td>44227</td>\n",
       "      <td>50.2</td>\n",
       "      <td>36777154026</td>\n",
       "    </tr>\n",
       "  </tbody>\n",
       "</table>\n",
       "</div>"
      ],
      "text/plain": [
       "      ocena                         ime     kategorija  objave  vpisani  \\\n",
       "mesto                                                                     \n",
       "1       A++                    T-Series          music   13927    116.0   \n",
       "2         A                   PewDiePie  entertainment    3991    102.0   \n",
       "4       A++  Cocomelon - Nursery Rhymes      education     469     63.8   \n",
       "8         A             5-Minute Crafts          howto    3748     61.7   \n",
       "9       A++                   SET India  entertainment   33302     58.4   \n",
       "10       A+             Canal KondZilla          music    1213     52.9   \n",
       "11       A+                         WWE         sports   44227     50.2   \n",
       "\n",
       "            ogledi  \n",
       "mesto               \n",
       "1      87011278231  \n",
       "2      23798731725  \n",
       "4      42092956470  \n",
       "8      16163442260  \n",
       "9      42305090305  \n",
       "10     26950843861  \n",
       "11     36777154026  "
      ]
     },
     "execution_count": 81,
     "metadata": {},
     "output_type": "execute_result"
    }
   ],
   "source": [
    "ocena_A[(podatki.vpisani > 50.00) &\n",
    "        (podatki.ogledi > 10000000000)]"
   ]
  },
  {
   "cell_type": "code",
   "execution_count": 94,
   "metadata": {},
   "outputs": [
    {
     "data": {
      "text/html": [
       "<div>\n",
       "<style scoped>\n",
       "    .dataframe tbody tr th:only-of-type {\n",
       "        vertical-align: middle;\n",
       "    }\n",
       "\n",
       "    .dataframe tbody tr th {\n",
       "        vertical-align: top;\n",
       "    }\n",
       "\n",
       "    .dataframe thead th {\n",
       "        text-align: right;\n",
       "    }\n",
       "</style>\n",
       "<table border=\"1\" class=\"dataframe\">\n",
       "  <thead>\n",
       "    <tr style=\"text-align: right;\">\n",
       "      <th></th>\n",
       "      <th>ocena</th>\n",
       "      <th>ime</th>\n",
       "      <th>kategorija</th>\n",
       "      <th>objave</th>\n",
       "      <th>vpisani</th>\n",
       "      <th>ogledi</th>\n",
       "    </tr>\n",
       "    <tr>\n",
       "      <th>mesto</th>\n",
       "      <th></th>\n",
       "      <th></th>\n",
       "      <th></th>\n",
       "      <th></th>\n",
       "      <th></th>\n",
       "      <th></th>\n",
       "    </tr>\n",
       "  </thead>\n",
       "  <tbody>\n",
       "    <tr>\n",
       "      <td>112</td>\n",
       "      <td>D-</td>\n",
       "      <td>The Late Late Show with James Cord…</td>\n",
       "      <td>entertainment</td>\n",
       "      <td>3663</td>\n",
       "      <td>20.80</td>\n",
       "      <td>6427238448</td>\n",
       "    </tr>\n",
       "    <tr>\n",
       "      <td>170</td>\n",
       "      <td>D-</td>\n",
       "      <td>Amit Bhadana</td>\n",
       "      <td>entertainment</td>\n",
       "      <td>64</td>\n",
       "      <td>17.00</td>\n",
       "      <td>1268368226</td>\n",
       "    </tr>\n",
       "    <tr>\n",
       "      <td>218</td>\n",
       "      <td>D</td>\n",
       "      <td>Michael Jackson</td>\n",
       "      <td>music</td>\n",
       "      <td>1</td>\n",
       "      <td>15.10</td>\n",
       "      <td>262345</td>\n",
       "    </tr>\n",
       "    <tr>\n",
       "      <td>387</td>\n",
       "      <td>D-</td>\n",
       "      <td>Blossom</td>\n",
       "      <td>howto</td>\n",
       "      <td>271</td>\n",
       "      <td>11.40</td>\n",
       "      <td>3007736253</td>\n",
       "    </tr>\n",
       "    <tr>\n",
       "      <td>410</td>\n",
       "      <td>D-</td>\n",
       "      <td>HiMan</td>\n",
       "      <td>people</td>\n",
       "      <td>143</td>\n",
       "      <td>11.10</td>\n",
       "      <td>783665179</td>\n",
       "    </tr>\n",
       "    <tr>\n",
       "      <td>...</td>\n",
       "      <td>...</td>\n",
       "      <td>...</td>\n",
       "      <td>...</td>\n",
       "      <td>...</td>\n",
       "      <td>...</td>\n",
       "      <td>...</td>\n",
       "    </tr>\n",
       "    <tr>\n",
       "      <td>4471</td>\n",
       "      <td>D-</td>\n",
       "      <td>Vasya - Nursery Rhymes &amp;amp; Kids Songs</td>\n",
       "      <td>NaN</td>\n",
       "      <td>58</td>\n",
       "      <td>2.54</td>\n",
       "      <td>421706131</td>\n",
       "    </tr>\n",
       "    <tr>\n",
       "      <td>4630</td>\n",
       "      <td>D-</td>\n",
       "      <td>Chance and Anthony</td>\n",
       "      <td>NaN</td>\n",
       "      <td>5</td>\n",
       "      <td>2.48</td>\n",
       "      <td>9941215</td>\n",
       "    </tr>\n",
       "    <tr>\n",
       "      <td>4674</td>\n",
       "      <td>D-</td>\n",
       "      <td>Tatiana</td>\n",
       "      <td>music</td>\n",
       "      <td>497</td>\n",
       "      <td>2.47</td>\n",
       "      <td>1116564802</td>\n",
       "    </tr>\n",
       "    <tr>\n",
       "      <td>4907</td>\n",
       "      <td>D-</td>\n",
       "      <td>GOLAZO TV</td>\n",
       "      <td>sports</td>\n",
       "      <td>46</td>\n",
       "      <td>2.39</td>\n",
       "      <td>96494632</td>\n",
       "    </tr>\n",
       "    <tr>\n",
       "      <td>4957</td>\n",
       "      <td>D-</td>\n",
       "      <td>Supernanny</td>\n",
       "      <td>entertainment</td>\n",
       "      <td>995</td>\n",
       "      <td>2.37</td>\n",
       "      <td>1121612086</td>\n",
       "    </tr>\n",
       "  </tbody>\n",
       "</table>\n",
       "<p>100 rows × 6 columns</p>\n",
       "</div>"
      ],
      "text/plain": [
       "      ocena                                      ime     kategorija  objave  \\\n",
       "mesto                                                                         \n",
       "112      D-      The Late Late Show with James Cord…  entertainment    3663   \n",
       "170      D-                             Amit Bhadana  entertainment      64   \n",
       "218       D                          Michael Jackson          music       1   \n",
       "387      D-                                  Blossom          howto     271   \n",
       "410      D-                                    HiMan         people     143   \n",
       "...     ...                                      ...            ...     ...   \n",
       "4471     D-  Vasya - Nursery Rhymes &amp; Kids Songs            NaN      58   \n",
       "4630     D-                       Chance and Anthony            NaN       5   \n",
       "4674     D-                                  Tatiana          music     497   \n",
       "4907     D-                                GOLAZO TV         sports      46   \n",
       "4957     D-                               Supernanny  entertainment     995   \n",
       "\n",
       "       vpisani      ogledi  \n",
       "mesto                       \n",
       "112      20.80  6427238448  \n",
       "170      17.00  1268368226  \n",
       "218      15.10      262345  \n",
       "387      11.40  3007736253  \n",
       "410      11.10   783665179  \n",
       "...        ...         ...  \n",
       "4471      2.54   421706131  \n",
       "4630      2.48     9941215  \n",
       "4674      2.47  1116564802  \n",
       "4907      2.39    96494632  \n",
       "4957      2.37  1121612086  \n",
       "\n",
       "[100 rows x 6 columns]"
      ]
     },
     "execution_count": 94,
     "metadata": {},
     "output_type": "execute_result"
    }
   ],
   "source": [
    "ocena_D"
   ]
  },
  {
   "cell_type": "markdown",
   "metadata": {},
   "source": [
    "Iz prve tabele opazimo, da so med prvimi desetimi vsi ocenjeni z A.Iz druge tabele, pa lahko razberemo, da na prvih sto mestih ni noben kanal ocenjen z najslabšo oceno D. To še dodatno potrjuje, da so tisti kanali z več vpisanimi tudi bolje ocenjeni.\n"
   ]
  },
  {
   "cell_type": "markdown",
   "metadata": {},
   "source": [
    "## Povezava med objavami ter kategorijami"
   ]
  },
  {
   "cell_type": "markdown",
   "metadata": {},
   "source": [
    "Želimo ugotovit ali je število objav povezano s številom vpisanih, ter s čim je povezano število objav.\n",
    "Najprej poglejmo koliko je najpogosteje število objav, za boljšo preglednost pogledamo le do 15 000. Opazimo da večinakanalov ima manj kot 1000 objav."
   ]
  },
  {
   "cell_type": "code",
   "execution_count": 216,
   "metadata": {},
   "outputs": [
    {
     "data": {
      "text/plain": [
       "<matplotlib.axes._subplots.AxesSubplot at 0x1f334b10>"
      ]
     },
     "execution_count": 216,
     "metadata": {},
     "output_type": "execute_result"
    },
    {
     "data": {
      "image/png": "[encoded data removed]",
      "text/plain": [
       "<Figure size 1080x288 with 1 Axes>"
      ]
     },
     "metadata": {
      "needs_background": "light"
     },
     "output_type": "display_data"
    }
   ],
   "source": [
    "# pogrupiramo število objav na 1000\n",
    "podatki['zaokrozene_objave'] = 1000 * (podatki.objave // 1000)\n",
    "odstranimo_najvecje = podatki[podatki.objave < 15000]\n",
    "odstranimo_najvecje['zaokrozene_objave'].value_counts().sort_index(ascending=True).plot(kind = 'bar', figsize=(15, 4), title='Število objav')\n"
   ]
  },
  {
   "cell_type": "code",
   "execution_count": 164,
   "metadata": {},
   "outputs": [
    {
     "data": {
      "text/html": [
       "<div>\n",
       "<style scoped>\n",
       "    .dataframe tbody tr th:only-of-type {\n",
       "        vertical-align: middle;\n",
       "    }\n",
       "\n",
       "    .dataframe tbody tr th {\n",
       "        vertical-align: top;\n",
       "    }\n",
       "\n",
       "    .dataframe thead th {\n",
       "        text-align: right;\n",
       "    }\n",
       "</style>\n",
       "<table border=\"1\" class=\"dataframe\">\n",
       "  <thead>\n",
       "    <tr style=\"text-align: right;\">\n",
       "      <th></th>\n",
       "      <th>ocena</th>\n",
       "      <th>ime</th>\n",
       "      <th>kategorija</th>\n",
       "      <th>objave</th>\n",
       "      <th>vpisani</th>\n",
       "      <th>ogledi</th>\n",
       "      <th>zaokrozene_objave</th>\n",
       "    </tr>\n",
       "    <tr>\n",
       "      <th>mesto</th>\n",
       "      <th></th>\n",
       "      <th></th>\n",
       "      <th></th>\n",
       "      <th></th>\n",
       "      <th></th>\n",
       "      <th></th>\n",
       "      <th></th>\n",
       "    </tr>\n",
       "  </thead>\n",
       "  <tbody>\n",
       "    <tr>\n",
       "      <td>92</td>\n",
       "      <td>A++</td>\n",
       "      <td>ABS-CBN Entertainment</td>\n",
       "      <td>entertainment</td>\n",
       "      <td>131964</td>\n",
       "      <td>22.60</td>\n",
       "      <td>31129203571</td>\n",
       "      <td>131000</td>\n",
       "    </tr>\n",
       "    <tr>\n",
       "      <td>106</td>\n",
       "      <td>A</td>\n",
       "      <td>TEDx Talks</td>\n",
       "      <td>nonprofit</td>\n",
       "      <td>143636</td>\n",
       "      <td>21.50</td>\n",
       "      <td>3853733551</td>\n",
       "      <td>143000</td>\n",
       "    </tr>\n",
       "    <tr>\n",
       "      <td>174</td>\n",
       "      <td>A</td>\n",
       "      <td>ABP NEWS</td>\n",
       "      <td>news</td>\n",
       "      <td>131685</td>\n",
       "      <td>16.90</td>\n",
       "      <td>4146718113</td>\n",
       "      <td>131000</td>\n",
       "    </tr>\n",
       "    <tr>\n",
       "      <td>204</td>\n",
       "      <td>A</td>\n",
       "      <td>IndiaTV</td>\n",
       "      <td>news</td>\n",
       "      <td>142573</td>\n",
       "      <td>15.50</td>\n",
       "      <td>5402333029</td>\n",
       "      <td>142000</td>\n",
       "    </tr>\n",
       "    <tr>\n",
       "      <td>315</td>\n",
       "      <td>A</td>\n",
       "      <td>IGN</td>\n",
       "      <td>games</td>\n",
       "      <td>135087</td>\n",
       "      <td>12.50</td>\n",
       "      <td>9567019192</td>\n",
       "      <td>135000</td>\n",
       "    </tr>\n",
       "    <tr>\n",
       "      <td>...</td>\n",
       "      <td>...</td>\n",
       "      <td>...</td>\n",
       "      <td>...</td>\n",
       "      <td>...</td>\n",
       "      <td>...</td>\n",
       "      <td>...</td>\n",
       "      <td>...</td>\n",
       "    </tr>\n",
       "    <tr>\n",
       "      <td>3597</td>\n",
       "      <td>A</td>\n",
       "      <td>SBS Entertainment</td>\n",
       "      <td>entertainment</td>\n",
       "      <td>206261</td>\n",
       "      <td>2.96</td>\n",
       "      <td>2377381729</td>\n",
       "      <td>206000</td>\n",
       "    </tr>\n",
       "    <tr>\n",
       "      <td>4112</td>\n",
       "      <td>A-</td>\n",
       "      <td>VideoYoum7 | قناة اليوم �…</td>\n",
       "      <td>news</td>\n",
       "      <td>106510</td>\n",
       "      <td>2.70</td>\n",
       "      <td>1136024874</td>\n",
       "      <td>106000</td>\n",
       "    </tr>\n",
       "    <tr>\n",
       "      <td>4294</td>\n",
       "      <td>A</td>\n",
       "      <td>SBS Drama</td>\n",
       "      <td>entertainment</td>\n",
       "      <td>339825</td>\n",
       "      <td>2.63</td>\n",
       "      <td>2538927806</td>\n",
       "      <td>339000</td>\n",
       "    </tr>\n",
       "    <tr>\n",
       "      <td>4434</td>\n",
       "      <td>A</td>\n",
       "      <td>Polimer News</td>\n",
       "      <td>news</td>\n",
       "      <td>106110</td>\n",
       "      <td>2.57</td>\n",
       "      <td>1293498817</td>\n",
       "      <td>106000</td>\n",
       "    </tr>\n",
       "    <tr>\n",
       "      <td>4552</td>\n",
       "      <td>A-</td>\n",
       "      <td>Manorama News</td>\n",
       "      <td>news</td>\n",
       "      <td>159462</td>\n",
       "      <td>2.51</td>\n",
       "      <td>1507363046</td>\n",
       "      <td>159000</td>\n",
       "    </tr>\n",
       "  </tbody>\n",
       "</table>\n",
       "<p>27 rows × 7 columns</p>\n",
       "</div>"
      ],
      "text/plain": [
       "      ocena                         ime     kategorija  objave  vpisani  \\\n",
       "mesto                                                                     \n",
       "92      A++       ABS-CBN Entertainment  entertainment  131964    22.60   \n",
       "106       A                  TEDx Talks      nonprofit  143636    21.50   \n",
       "174       A                    ABP NEWS           news  131685    16.90   \n",
       "204       A                     IndiaTV           news  142573    15.50   \n",
       "315       A                         IGN          games  135087    12.50   \n",
       "...     ...                         ...            ...     ...      ...   \n",
       "3597      A           SBS Entertainment  entertainment  206261     2.96   \n",
       "4112     A-  VideoYoum7 | قناة اليوم �…           news  106510     2.70   \n",
       "4294      A                   SBS Drama  entertainment  339825     2.63   \n",
       "4434      A                Polimer News           news  106110     2.57   \n",
       "4552     A-               Manorama News           news  159462     2.51   \n",
       "\n",
       "            ogledi  zaokrozene_objave  \n",
       "mesto                                  \n",
       "92     31129203571             131000  \n",
       "106     3853733551             143000  \n",
       "174     4146718113             131000  \n",
       "204     5402333029             142000  \n",
       "315     9567019192             135000  \n",
       "...            ...                ...  \n",
       "3597    2377381729             206000  \n",
       "4112    1136024874             106000  \n",
       "4294    2538927806             339000  \n",
       "4434    1293498817             106000  \n",
       "4552    1507363046             159000  \n",
       "\n",
       "[27 rows x 7 columns]"
      ]
     },
     "execution_count": 164,
     "metadata": {},
     "output_type": "execute_result"
    }
   ],
   "source": [
    "aktivni_youtuberji = podatki[podatki.objave > 100000]\n",
    "aktivni_youtuberji"
   ]
  },
  {
   "cell_type": "markdown",
   "metadata": {},
   "source": [
    "V zgornji razpredelnici so prikazani tisti kanalo ki imajo nadpovprečno število objav. Presentljivo je dejstvo, da ima najbolj aktiven kanal več kot 130 000 objav, kar je 130-krat več kot povprečen kanal. Opazimo tudi, da mesta, ki jih dosegajo kanali z več objavami niso ravno visoka. Iz tega sklepamo, da večje število objav ne zagotovitudi več vpisanih."
   ]
  },
  {
   "cell_type": "code",
   "execution_count": 224,
   "metadata": {},
   "outputs": [
    {
     "data": {
      "text/plain": [
       "<matplotlib.axes._subplots.AxesSubplot at 0x3286ca50>"
      ]
     },
     "execution_count": 224,
     "metadata": {},
     "output_type": "execute_result"
    },
    {
     "data": {
      "image/png": "[encoded data removed]",
      "text/plain": [
       "<Figure size 576x360 with 1 Axes>"
      ]
     },
     "metadata": {
      "needs_background": "light"
     },
     "output_type": "display_data"
    }
   ],
   "source": [
    "odstranimo_najvecje = podatki[podatki.objave < 15000]\n",
    "odstranimo_najvecje['zaokrozene_objave'].plot(kind = 'bar', figsize=(8, 5))"
   ]
  },
  {
   "cell_type": "code",
   "execution_count": null,
   "metadata": {},
   "outputs": [],
   "source": []
  },
  {
   "cell_type": "markdown",
   "metadata": {},
   "source": [
    "Če pogledamo kakšna je poevzava med aktivnejšimi kanali ter kategorijami, opazimo, da so to večinoma kanali z novicami. Če premislimo je razlog očiten, saj novice objavljajo vsak dan, povprečen kanal pa nekje enkrat na teden. Tako lahko sklepamo, da je število objav tesneje povezano z kategorijo, kot pa s številom vpisanih (posledično mestom na lestvici)."
   ]
  },
  {
   "cell_type": "code",
   "execution_count": 150,
   "metadata": {},
   "outputs": [
    {
     "data": {
      "text/plain": [
       "<matplotlib.axes._subplots.AxesSubplot at 0x1c7095b0>"
      ]
     },
     "execution_count": 150,
     "metadata": {},
     "output_type": "execute_result"
    },
    {
     "data": {
      "image/png": "[encoded data removed]",
      "text/plain": [
       "<Figure size 1440x360 with 1 Axes>"
      ]
     },
     "metadata": {
      "needs_background": "light"
     },
     "output_type": "display_data"
    }
   ],
   "source": [
    "aktivni_youtuberji['kategorija'].value_counts().head(20).plot(kind = 'bar', figsize=(20, 5), title='najbolj priljubljene kategorije')"
   ]
  },
  {
   "cell_type": "markdown",
   "metadata": {},
   "source": [
    "Zanimiv je tudi podatek o tem, katere kategorije so najbolj pogoste. Največkrat se pojavi *entertainment*, najverjetneje so tu vsi kanali, ki jih težko razporedimo v neko specifično kategorijo, zato je teh največ."
   ]
  },
  {
   "cell_type": "code",
   "execution_count": 80,
   "metadata": {},
   "outputs": [
    {
     "data": {
      "text/html": [
       "<div>\n",
       "<style scoped>\n",
       "    .dataframe tbody tr th:only-of-type {\n",
       "        vertical-align: middle;\n",
       "    }\n",
       "\n",
       "    .dataframe tbody tr th {\n",
       "        vertical-align: top;\n",
       "    }\n",
       "\n",
       "    .dataframe thead th {\n",
       "        text-align: right;\n",
       "    }\n",
       "</style>\n",
       "<table border=\"1\" class=\"dataframe\">\n",
       "  <thead>\n",
       "    <tr style=\"text-align: right;\">\n",
       "      <th></th>\n",
       "      <th>pojavitev</th>\n",
       "    </tr>\n",
       "    <tr>\n",
       "      <th>kategorija</th>\n",
       "      <th></th>\n",
       "    </tr>\n",
       "  </thead>\n",
       "  <tbody>\n",
       "    <tr>\n",
       "      <td>animals</td>\n",
       "      <td>14</td>\n",
       "    </tr>\n",
       "    <tr>\n",
       "      <td>autos</td>\n",
       "      <td>27</td>\n",
       "    </tr>\n",
       "    <tr>\n",
       "      <td>comedy</td>\n",
       "      <td>332</td>\n",
       "    </tr>\n",
       "    <tr>\n",
       "      <td>education</td>\n",
       "      <td>198</td>\n",
       "    </tr>\n",
       "    <tr>\n",
       "      <td>entertainment</td>\n",
       "      <td>1340</td>\n",
       "    </tr>\n",
       "    <tr>\n",
       "      <td>film</td>\n",
       "      <td>242</td>\n",
       "    </tr>\n",
       "    <tr>\n",
       "      <td>games</td>\n",
       "      <td>515</td>\n",
       "    </tr>\n",
       "    <tr>\n",
       "      <td>howto</td>\n",
       "      <td>260</td>\n",
       "    </tr>\n",
       "    <tr>\n",
       "      <td>music</td>\n",
       "      <td>887</td>\n",
       "    </tr>\n",
       "    <tr>\n",
       "      <td>news</td>\n",
       "      <td>94</td>\n",
       "    </tr>\n",
       "    <tr>\n",
       "      <td>nonprofit</td>\n",
       "      <td>7</td>\n",
       "    </tr>\n",
       "    <tr>\n",
       "      <td>people</td>\n",
       "      <td>446</td>\n",
       "    </tr>\n",
       "    <tr>\n",
       "      <td>shows</td>\n",
       "      <td>1</td>\n",
       "    </tr>\n",
       "    <tr>\n",
       "      <td>sports</td>\n",
       "      <td>75</td>\n",
       "    </tr>\n",
       "    <tr>\n",
       "      <td>tech</td>\n",
       "      <td>95</td>\n",
       "    </tr>\n",
       "    <tr>\n",
       "      <td>travel</td>\n",
       "      <td>11</td>\n",
       "    </tr>\n",
       "  </tbody>\n",
       "</table>\n",
       "</div>"
      ],
      "text/plain": [
       "               pojavitev\n",
       "kategorija              \n",
       "animals               14\n",
       "autos                 27\n",
       "comedy               332\n",
       "education            198\n",
       "entertainment       1340\n",
       "film                 242\n",
       "games                515\n",
       "howto                260\n",
       "music                887\n",
       "news                  94\n",
       "nonprofit              7\n",
       "people               446\n",
       "shows                  1\n",
       "sports                75\n",
       "tech                  95\n",
       "travel                11"
      ]
     },
     "execution_count": 80,
     "metadata": {},
     "output_type": "execute_result"
    }
   ],
   "source": [
    "najpogostejše_kategorije = podatki.groupby('kategorija')\n",
    "najpogostejše_kategorije.size().to_frame('pojavitev')"
   ]
  },
  {
   "cell_type": "code",
   "execution_count": 79,
   "metadata": {},
   "outputs": [
    {
     "data": {
      "text/plain": [
       "<matplotlib.axes._subplots.AxesSubplot at 0xdcd4ef0>"
      ]
     },
     "execution_count": 79,
     "metadata": {},
     "output_type": "execute_result"
    },
    {
     "data": {
      "image/png": "[encoded data removed]",
      "text/plain": [
       "<Figure size 360x360 with 1 Axes>"
      ]
     },
     "metadata": {},
     "output_type": "display_data"
    }
   ],
   "source": [
    "podatki['kategorija'].value_counts().head(10).plot(kind = 'pie',  figsize=(5, 5), title='najbolj pogoste kategorije', fontsize = '12')"
   ]
  },
  {
   "cell_type": "markdown",
   "metadata": {},
   "source": [
    "Če pogledamo samo tiste kanale z največ vpisanimih se prav tako največkrat pojavita katrgoriji *music* in *entertainment*."
   ]
  },
  {
   "cell_type": "code",
   "execution_count": 225,
   "metadata": {},
   "outputs": [
    {
     "data": {
      "text/plain": [
       "<matplotlib.axes._subplots.AxesSubplot at 0x3881e370>"
      ]
     },
     "execution_count": 225,
     "metadata": {},
     "output_type": "execute_result"
    },
    {
     "data": {
      "image/png": "[encoded data removed]",
      "text/plain": [
       "<Figure size 360x360 with 1 Axes>"
      ]
     },
     "metadata": {},
     "output_type": "display_data"
    }
   ],
   "source": [
    "prvi = podatki[podatki.vpisani > 30.00]\n",
    "prvi['kategorija'].value_counts().head(10).plot(kind = 'pie',  figsize=(5, 5), title='najbolj priljubljene kategorije', fontsize = '12')"
   ]
  },
  {
   "cell_type": "markdown",
   "metadata": {},
   "source": [
    "## Odvisnost od števila ogledov"
   ]
  },
  {
   "cell_type": "markdown",
   "metadata": {},
   "source": [
    "Preverimo še ali je res večje število ogledov povezano z večjim številom vpisanimih. Opazimo takoj, da ima kanal na prvem mestu tudi največ ogledov. Preverimo ali je to le naključje."
   ]
  },
  {
   "cell_type": "code",
   "execution_count": 114,
   "metadata": {
    "scrolled": true
   },
   "outputs": [
    {
     "data": {
      "text/plain": [
       "87011278231"
      ]
     },
     "execution_count": 114,
     "metadata": {},
     "output_type": "execute_result"
    }
   ],
   "source": [
    "podatki['ogledi'].max()"
   ]
  },
  {
   "cell_type": "code",
   "execution_count": 176,
   "metadata": {},
   "outputs": [
    {
     "data": {
      "text/html": [
       "<div>\n",
       "<style scoped>\n",
       "    .dataframe tbody tr th:only-of-type {\n",
       "        vertical-align: middle;\n",
       "    }\n",
       "\n",
       "    .dataframe tbody tr th {\n",
       "        vertical-align: top;\n",
       "    }\n",
       "\n",
       "    .dataframe thead th {\n",
       "        text-align: right;\n",
       "    }\n",
       "</style>\n",
       "<table border=\"1\" class=\"dataframe\">\n",
       "  <thead>\n",
       "    <tr style=\"text-align: right;\">\n",
       "      <th></th>\n",
       "      <th>ime</th>\n",
       "      <th>ogledi</th>\n",
       "    </tr>\n",
       "    <tr>\n",
       "      <th>mesto</th>\n",
       "      <th></th>\n",
       "      <th></th>\n",
       "    </tr>\n",
       "  </thead>\n",
       "  <tbody>\n",
       "    <tr>\n",
       "      <td>1</td>\n",
       "      <td>T-Series</td>\n",
       "      <td>87011278231</td>\n",
       "    </tr>\n",
       "    <tr>\n",
       "      <td>2</td>\n",
       "      <td>PewDiePie</td>\n",
       "      <td>23798731725</td>\n",
       "    </tr>\n",
       "    <tr>\n",
       "      <td>4</td>\n",
       "      <td>Cocomelon - Nursery Rhymes</td>\n",
       "      <td>42092956470</td>\n",
       "    </tr>\n",
       "    <tr>\n",
       "      <td>8</td>\n",
       "      <td>5-Minute Crafts</td>\n",
       "      <td>16163442260</td>\n",
       "    </tr>\n",
       "    <tr>\n",
       "      <td>9</td>\n",
       "      <td>SET India</td>\n",
       "      <td>42305090305</td>\n",
       "    </tr>\n",
       "    <tr>\n",
       "      <td>10</td>\n",
       "      <td>Canal KondZilla</td>\n",
       "      <td>26950843861</td>\n",
       "    </tr>\n",
       "    <tr>\n",
       "      <td>11</td>\n",
       "      <td>WWE</td>\n",
       "      <td>36777154026</td>\n",
       "    </tr>\n",
       "    <tr>\n",
       "      <td>12</td>\n",
       "      <td>Justin Bieber</td>\n",
       "      <td>635628175</td>\n",
       "    </tr>\n",
       "    <tr>\n",
       "      <td>13</td>\n",
       "      <td>Dude Perfect</td>\n",
       "      <td>9179627072</td>\n",
       "    </tr>\n",
       "    <tr>\n",
       "      <td>14</td>\n",
       "      <td>Zee Music Company</td>\n",
       "      <td>21085000322</td>\n",
       "    </tr>\n",
       "    <tr>\n",
       "      <td>15</td>\n",
       "      <td>Badabun</td>\n",
       "      <td>14689326881</td>\n",
       "    </tr>\n",
       "    <tr>\n",
       "      <td>16</td>\n",
       "      <td>Ed Sheeran</td>\n",
       "      <td>18415967659</td>\n",
       "    </tr>\n",
       "    <tr>\n",
       "      <td>17</td>\n",
       "      <td>Marshmello</td>\n",
       "      <td>7433992101</td>\n",
       "    </tr>\n",
       "    <tr>\n",
       "      <td>18</td>\n",
       "      <td>HolaSoyGerman.</td>\n",
       "      <td>4059953766</td>\n",
       "    </tr>\n",
       "    <tr>\n",
       "      <td>19</td>\n",
       "      <td>EminemMusic</td>\n",
       "      <td>755373215</td>\n",
       "    </tr>\n",
       "    <tr>\n",
       "      <td>20</td>\n",
       "      <td>Ariana Grande</td>\n",
       "      <td>912752071</td>\n",
       "    </tr>\n",
       "    <tr>\n",
       "      <td>21</td>\n",
       "      <td>Like Nastya Vlog</td>\n",
       "      <td>18129660136</td>\n",
       "    </tr>\n",
       "    <tr>\n",
       "      <td>22</td>\n",
       "      <td>whinderssonnunes</td>\n",
       "      <td>3114314565</td>\n",
       "    </tr>\n",
       "    <tr>\n",
       "      <td>23</td>\n",
       "      <td>Zee TV</td>\n",
       "      <td>34354338112</td>\n",
       "    </tr>\n",
       "    <tr>\n",
       "      <td>24</td>\n",
       "      <td>JuegaGerman</td>\n",
       "      <td>10042675953</td>\n",
       "    </tr>\n",
       "  </tbody>\n",
       "</table>\n",
       "</div>"
      ],
      "text/plain": [
       "                              ime       ogledi\n",
       "mesto                                         \n",
       "1                        T-Series  87011278231\n",
       "2                       PewDiePie  23798731725\n",
       "4      Cocomelon - Nursery Rhymes  42092956470\n",
       "8                 5-Minute Crafts  16163442260\n",
       "9                       SET India  42305090305\n",
       "10                Canal KondZilla  26950843861\n",
       "11                            WWE  36777154026\n",
       "12                  Justin Bieber    635628175\n",
       "13                   Dude Perfect   9179627072\n",
       "14              Zee Music Company  21085000322\n",
       "15                        Badabun  14689326881\n",
       "16                     Ed Sheeran  18415967659\n",
       "17                     Marshmello   7433992101\n",
       "18                 HolaSoyGerman.   4059953766\n",
       "19                    EminemMusic    755373215\n",
       "20                  Ariana Grande    912752071\n",
       "21               Like Nastya Vlog  18129660136\n",
       "22               whinderssonnunes   3114314565\n",
       "23                         Zee TV  34354338112\n",
       "24                    JuegaGerman  10042675953"
      ]
     },
     "execution_count": 176,
     "metadata": {},
     "output_type": "execute_result"
    }
   ],
   "source": [
    "podatki[['ime', 'ogledi']].head(20)"
   ]
  },
  {
   "cell_type": "code",
   "execution_count": 226,
   "metadata": {},
   "outputs": [
    {
     "data": {
      "text/plain": [
       "Text(0, 0.5, 'število ogledov')"
      ]
     },
     "execution_count": 226,
     "metadata": {},
     "output_type": "execute_result"
    },
    {
     "data": {
      "image/png": "[encoded data removed]",
      "text/plain": [
       "<Figure size 432x288 with 1 Axes>"
      ]
     },
     "metadata": {
      "needs_background": "light"
     },
     "output_type": "display_data"
    }
   ],
   "source": [
    "#odstranimo najbolj gledan kanalsaj ta zelo odstopa od ostalih in bo brez teg graf bol pregleden\n",
    "odstranimo_ekstreme = podatki[(podatki.ogledi < 87011278231)]\n",
    "plt = odstranimo_ekstreme['ogledi'].plot(kind = 'area', title='Povezava med številom ogledov in številom vpisanih', fontsize=13)\n",
    "plt.set_xlabel(\"mesto\")\n",
    "plt.set_ylabel(\"število ogledov\")"
   ]
  },
  {
   "cell_type": "markdown",
   "metadata": {},
   "source": [
    "Iz grafa opazimo, da imajo kanali višje na lestvici tudi več vpisanih, seveda pa so tudi izjeme."
   ]
  },
  {
   "cell_type": "code",
   "execution_count": 233,
   "metadata": {},
   "outputs": [
    {
     "data": {
      "text/plain": [
       "<matplotlib.axes._subplots.AxesSubplot at 0x3bc3a470>"
      ]
     },
     "execution_count": 233,
     "metadata": {},
     "output_type": "execute_result"
    },
    {
     "data": {
      "image/png": "[encoded data removed]",
      "text/plain": [
       "<Figure size 432x288 with 1 Axes>"
      ]
     },
     "metadata": {
      "needs_background": "light"
     },
     "output_type": "display_data"
    }
   ],
   "source": [
    "odstranimo_ekstreme2 = podatki[(podatki.objave < 1000) & (podatki.ogledi < 2011278231)]\n",
    "odstranimo_ekstreme2[['ogledi', 'objave']].plot.scatter('ogledi', 'objave')"
   ]
  },
  {
   "cell_type": "code",
   "execution_count": 180,
   "metadata": {},
   "outputs": [
    {
     "data": {
      "text/plain": [
       "<matplotlib.axes._subplots.AxesSubplot at 0x1d17ea90>"
      ]
     },
     "execution_count": 180,
     "metadata": {},
     "output_type": "execute_result"
    },
    {
     "data": {
      "image/png": "[encoded data removed]",
      "text/plain": [
       "<Figure size 1440x216 with 1 Axes>"
      ]
     },
     "metadata": {
      "needs_background": "light"
     },
     "output_type": "display_data"
    }
   ],
   "source": [
    "prvih_10 = podatki.head(10)\n",
    "podatki_vpisani = prvih_1000.groupby('vpisani')\n",
    "podatki_vpisani[['objave']].mean().plot(figsize=(20, 3))"
   ]
  },
  {
   "cell_type": "markdown",
   "metadata": {},
   "source": []
  },
  {
   "cell_type": "code",
   "execution_count": null,
   "metadata": {},
   "outputs": [],
   "source": []
  }
 ],
 "metadata": {
  "kernelspec": {
   "display_name": "Python 3",
   "language": "python",
   "name": "python3"
  },
  "language_info": {
   "codemirror_mode": {
    "name": "ipython",
    "version": 3
   },
   "file_extension": ".py",
   "mimetype": "text/x-python",
   "name": "python",
   "nbconvert_exporter": "python",
   "pygments_lexer": "ipython3",
   "version": "3.6.4"
  }
 },
 "nbformat": 4,
 "nbformat_minor": 2
}
