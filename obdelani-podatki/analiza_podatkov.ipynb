{
 "cells": [
  {
   "cell_type": "markdown",
   "metadata": {},
   "source": [
    "# ANALIZA YOUTUBE KANALOV\n",
    "\n",
    "Iz spletne strani <a href=\"https://socialblade.com/youtube/top/5000/mostsubscribed\">podatki youtuberjev</a> sem pobrala podatke in jih zapisala v csv datoteko. POdatki so razvrščeni padajoče po številu vpisanihv kanal. Z analizo bom skušala ugotoviti povezavo med število vpisanih ter številom objav, torej ali so kanali z več objavami tudi višje na lestvici. Kateri kanali so najbolj gledani, ali imajo slednji tudi več vpisanih. Kakšne kategrije se pojavljajo in katere so najpogostejše. "
   ]
  },
  {
   "cell_type": "markdown",
   "metadata": {},
   "source": [
    "## Uvoz podatkov in osnovni pregled"
   ]
  },
  {
   "cell_type": "code",
   "execution_count": 6,
   "metadata": {},
   "outputs": [],
   "source": [
    "import pandas as pd\n",
    "import numpy as np\n",
    "import matplotlib.pyplot as plt\n",
    "%matplotlib inline\n",
    "import math"
   ]
  },
  {
   "cell_type": "markdown",
   "metadata": {},
   "source": [
    "Oglejmo si tabelo z vsemi podatki (razvrščena po številu vpisanih). Iz te lahko takoj dobimo nekaj zanimivih ugotovitev in povezav."
   ]
  },
  {
   "cell_type": "code",
   "execution_count": 8,
   "metadata": {},
   "outputs": [
    {
     "data": {
      "text/html": [
       "<div>\n",
       "<style scoped>\n",
       "    .dataframe tbody tr th:only-of-type {\n",
       "        vertical-align: middle;\n",
       "    }\n",
       "\n",
       "    .dataframe tbody tr th {\n",
       "        vertical-align: top;\n",
       "    }\n",
       "\n",
       "    .dataframe thead th {\n",
       "        text-align: right;\n",
       "    }\n",
       "</style>\n",
       "<table border=\"1\" class=\"dataframe\">\n",
       "  <thead>\n",
       "    <tr style=\"text-align: right;\">\n",
       "      <th></th>\n",
       "      <th>ocena</th>\n",
       "      <th>ime</th>\n",
       "      <th>kategorija</th>\n",
       "      <th>objave</th>\n",
       "      <th>vpisani</th>\n",
       "      <th>ogledi</th>\n",
       "    </tr>\n",
       "    <tr>\n",
       "      <th>mesto</th>\n",
       "      <th></th>\n",
       "      <th></th>\n",
       "      <th></th>\n",
       "      <th></th>\n",
       "      <th></th>\n",
       "      <th></th>\n",
       "    </tr>\n",
       "  </thead>\n",
       "  <tbody>\n",
       "    <tr>\n",
       "      <td>1</td>\n",
       "      <td>A++</td>\n",
       "      <td>T-Series</td>\n",
       "      <td>music</td>\n",
       "      <td>14322</td>\n",
       "      <td>125.00</td>\n",
       "      <td>96177195880</td>\n",
       "    </tr>\n",
       "    <tr>\n",
       "      <td>2</td>\n",
       "      <td>A</td>\n",
       "      <td>PewDiePie</td>\n",
       "      <td>games</td>\n",
       "      <td>4072</td>\n",
       "      <td>102.00</td>\n",
       "      <td>24562405073</td>\n",
       "    </tr>\n",
       "    <tr>\n",
       "      <td>4</td>\n",
       "      <td>A++</td>\n",
       "      <td>Cocomelon - Nursery Rhymes</td>\n",
       "      <td>education</td>\n",
       "      <td>495</td>\n",
       "      <td>70.70</td>\n",
       "      <td>48846632332</td>\n",
       "    </tr>\n",
       "    <tr>\n",
       "      <td>8</td>\n",
       "      <td>A</td>\n",
       "      <td>5-Minute Crafts</td>\n",
       "      <td>howto</td>\n",
       "      <td>4091</td>\n",
       "      <td>63.60</td>\n",
       "      <td>16967087622</td>\n",
       "    </tr>\n",
       "    <tr>\n",
       "      <td>9</td>\n",
       "      <td>A++</td>\n",
       "      <td>SET India</td>\n",
       "      <td>entertainment</td>\n",
       "      <td>35278</td>\n",
       "      <td>63.40</td>\n",
       "      <td>46794371073</td>\n",
       "    </tr>\n",
       "    <tr>\n",
       "      <td>...</td>\n",
       "      <td>...</td>\n",
       "      <td>...</td>\n",
       "      <td>...</td>\n",
       "      <td>...</td>\n",
       "      <td>...</td>\n",
       "      <td>...</td>\n",
       "    </tr>\n",
       "    <tr>\n",
       "      <td>4996</td>\n",
       "      <td>B+</td>\n",
       "      <td>DC</td>\n",
       "      <td>entertainment</td>\n",
       "      <td>3049</td>\n",
       "      <td>2.51</td>\n",
       "      <td>1143056518</td>\n",
       "    </tr>\n",
       "    <tr>\n",
       "      <td>4997</td>\n",
       "      <td>A-</td>\n",
       "      <td>T-FUN</td>\n",
       "      <td>howto</td>\n",
       "      <td>626</td>\n",
       "      <td>2.53</td>\n",
       "      <td>620643742</td>\n",
       "    </tr>\n",
       "    <tr>\n",
       "      <td>4998</td>\n",
       "      <td>A-</td>\n",
       "      <td>Funk Explode</td>\n",
       "      <td>music</td>\n",
       "      <td>266</td>\n",
       "      <td>2.51</td>\n",
       "      <td>618774174</td>\n",
       "    </tr>\n",
       "    <tr>\n",
       "      <td>4999</td>\n",
       "      <td>B+</td>\n",
       "      <td>AbrahamMateoVEVO</td>\n",
       "      <td>music</td>\n",
       "      <td>86</td>\n",
       "      <td>2.50</td>\n",
       "      <td>1182788649</td>\n",
       "    </tr>\n",
       "    <tr>\n",
       "      <td>5000</td>\n",
       "      <td>B+</td>\n",
       "      <td>РОМАН ФЛОКИ</td>\n",
       "      <td>games</td>\n",
       "      <td>2136</td>\n",
       "      <td>2.52</td>\n",
       "      <td>612610704</td>\n",
       "    </tr>\n",
       "  </tbody>\n",
       "</table>\n",
       "<p>4942 rows × 6 columns</p>\n",
       "</div>"
      ],
      "text/plain": [
       "      ocena                         ime     kategorija  objave  vpisani  \\\n",
       "mesto                                                                     \n",
       "1       A++                    T-Series          music   14322   125.00   \n",
       "2         A                   PewDiePie          games    4072   102.00   \n",
       "4       A++  Cocomelon - Nursery Rhymes      education     495    70.70   \n",
       "8         A             5-Minute Crafts          howto    4091    63.60   \n",
       "9       A++                   SET India  entertainment   35278    63.40   \n",
       "...     ...                         ...            ...     ...      ...   \n",
       "4996     B+                          DC  entertainment    3049     2.51   \n",
       "4997     A-                       T-FUN          howto     626     2.53   \n",
       "4998     A-                Funk Explode          music     266     2.51   \n",
       "4999     B+            AbrahamMateoVEVO          music      86     2.50   \n",
       "5000     B+                 РОМАН ФЛОКИ          games    2136     2.52   \n",
       "\n",
       "            ogledi  \n",
       "mesto               \n",
       "1      96177195880  \n",
       "2      24562405073  \n",
       "4      48846632332  \n",
       "8      16967087622  \n",
       "9      46794371073  \n",
       "...            ...  \n",
       "4996    1143056518  \n",
       "4997     620643742  \n",
       "4998     618774174  \n",
       "4999    1182788649  \n",
       "5000     612610704  \n",
       "\n",
       "[4942 rows x 6 columns]"
      ]
     },
     "execution_count": 8,
     "metadata": {},
     "output_type": "execute_result"
    }
   ],
   "source": [
    "podatki = pd.read_csv('podatki.csv', index_col='mesto')\n",
    "pd.options.display.max_rows = 20\n",
    "podatki"
   ]
  },
  {
   "cell_type": "code",
   "execution_count": 24,
   "metadata": {},
   "outputs": [
    {
     "data": {
      "text/plain": [
       "7"
      ]
     },
     "execution_count": 24,
     "metadata": {},
     "output_type": "execute_result"
    }
   ],
   "source": [
    "podatki[podatki.vpisani > 50.00].ime.count()"
   ]
  },
  {
   "cell_type": "markdown",
   "metadata": {},
   "source": [
    "Le 7 kanalov ima več kot 50M vpisanih, oglejmo si še kako se spreminja število vpisanih. Iz spodnjega grafa je razvidno, da število na začetku zelo hitro pada potem pa se le manjo spreminja, ko pridemo nekje pod 10 M vpisanih."
   ]
  },
  {
   "cell_type": "code",
   "execution_count": 195,
   "metadata": {},
   "outputs": [
    {
     "data": {
      "image/png": "[encoded data removed]",
      "text/plain": [
       "<Figure size 432x288 with 1 Axes>"
      ]
     },
     "metadata": {
      "needs_background": "light"
     },
     "output_type": "display_data"
    }
   ],
   "source": [
    "plt = podatki['vpisani'].plot(title=' Število vpisanih', fontsize=13)"
   ]
  },
  {
   "cell_type": "code",
   "execution_count": 194,
   "metadata": {},
   "outputs": [
    {
     "data": {
      "text/plain": [
       "<matplotlib.axes._subplots.AxesSubplot at 0x1bdd9690>"
      ]
     },
     "execution_count": 194,
     "metadata": {},
     "output_type": "execute_result"
    },
    {
     "data": {
      "image/png": "[encoded data removed]",
      "text/plain": [
       "<Figure size 360x360 with 1 Axes>"
      ]
     },
     "metadata": {
      "needs_background": "light"
     },
     "output_type": "display_data"
    }
   ],
   "source": [
    "#zaokrozimo na 10 miljonov in preštejemo kanale v vsakem razdelku\n",
    "podatki['zaokrozeni_vpisani'] = 10 * (podatki.vpisani // 10)\n",
    "podatki['zaokrozeni_vpisani'].value_counts().plot(kind = 'barh', figsize=(5, 5), title='stevilo vpisanih', fontsize = '12')"
   ]
  },
  {
   "cell_type": "markdown",
   "metadata": {},
   "source": [
    "Opazimo, da je število kanalov z več kot 10 M ogledi, majhno, zato je zgorni graf tako hitro pada. To je tudi potrdilo zgornjo ugotovitev, vidimo namreč, da več kot 4500 kanalov ima manj kot 10 M vpisanih."
   ]
  },
  {
   "cell_type": "markdown",
   "metadata": {},
   "source": [
    "## Razpored po ocenah"
   ]
  },
  {
   "cell_type": "code",
   "execution_count": 19,
   "metadata": {},
   "outputs": [
    {
     "data": {
      "text/html": [
       "<div>\n",
       "<style scoped>\n",
       "    .dataframe tbody tr th:only-of-type {\n",
       "        vertical-align: middle;\n",
       "    }\n",
       "\n",
       "    .dataframe tbody tr th {\n",
       "        vertical-align: top;\n",
       "    }\n",
       "\n",
       "    .dataframe thead th {\n",
       "        text-align: right;\n",
       "    }\n",
       "</style>\n",
       "<table border=\"1\" class=\"dataframe\">\n",
       "  <thead>\n",
       "    <tr style=\"text-align: right;\">\n",
       "      <th></th>\n",
       "      <th>ocena</th>\n",
       "      <th>ime</th>\n",
       "      <th>kategorija</th>\n",
       "      <th>objave</th>\n",
       "      <th>vpisani</th>\n",
       "      <th>ogledi</th>\n",
       "    </tr>\n",
       "    <tr>\n",
       "      <th>mesto</th>\n",
       "      <th></th>\n",
       "      <th></th>\n",
       "      <th></th>\n",
       "      <th></th>\n",
       "      <th></th>\n",
       "      <th></th>\n",
       "    </tr>\n",
       "  </thead>\n",
       "  <tbody>\n",
       "    <tr>\n",
       "      <td>1</td>\n",
       "      <td>A++</td>\n",
       "      <td>T-Series</td>\n",
       "      <td>music</td>\n",
       "      <td>13927</td>\n",
       "      <td>116.00</td>\n",
       "      <td>87011278231</td>\n",
       "    </tr>\n",
       "    <tr>\n",
       "      <td>9</td>\n",
       "      <td>A++</td>\n",
       "      <td>SET India</td>\n",
       "      <td>entertainment</td>\n",
       "      <td>33302</td>\n",
       "      <td>58.40</td>\n",
       "      <td>42305090305</td>\n",
       "    </tr>\n",
       "    <tr>\n",
       "      <td>4</td>\n",
       "      <td>A++</td>\n",
       "      <td>Cocomelon - Nursery Rhymes</td>\n",
       "      <td>education</td>\n",
       "      <td>469</td>\n",
       "      <td>63.80</td>\n",
       "      <td>42092956470</td>\n",
       "    </tr>\n",
       "    <tr>\n",
       "      <td>11</td>\n",
       "      <td>A+</td>\n",
       "      <td>WWE</td>\n",
       "      <td>sports</td>\n",
       "      <td>44227</td>\n",
       "      <td>50.20</td>\n",
       "      <td>36777154026</td>\n",
       "    </tr>\n",
       "    <tr>\n",
       "      <td>23</td>\n",
       "      <td>A++</td>\n",
       "      <td>Zee TV</td>\n",
       "      <td>entertainment</td>\n",
       "      <td>80479</td>\n",
       "      <td>36.90</td>\n",
       "      <td>34354338112</td>\n",
       "    </tr>\n",
       "    <tr>\n",
       "      <td>...</td>\n",
       "      <td>...</td>\n",
       "      <td>...</td>\n",
       "      <td>...</td>\n",
       "      <td>...</td>\n",
       "      <td>...</td>\n",
       "      <td>...</td>\n",
       "    </tr>\n",
       "    <tr>\n",
       "      <td>4527</td>\n",
       "      <td>A-</td>\n",
       "      <td>NextFlix</td>\n",
       "      <td>NaN</td>\n",
       "      <td>6</td>\n",
       "      <td>2.52</td>\n",
       "      <td>38879</td>\n",
       "    </tr>\n",
       "    <tr>\n",
       "      <td>4319</td>\n",
       "      <td>C+</td>\n",
       "      <td>Gjigandet e Vegjel</td>\n",
       "      <td>NaN</td>\n",
       "      <td>6</td>\n",
       "      <td>2.61</td>\n",
       "      <td>27582</td>\n",
       "    </tr>\n",
       "    <tr>\n",
       "      <td>3161</td>\n",
       "      <td>C</td>\n",
       "      <td>Тех.Обзор</td>\n",
       "      <td>people</td>\n",
       "      <td>12</td>\n",
       "      <td>3.23</td>\n",
       "      <td>27498</td>\n",
       "    </tr>\n",
       "    <tr>\n",
       "      <td>2039</td>\n",
       "      <td>D-</td>\n",
       "      <td>NikiChiki - Детские пес�…</td>\n",
       "      <td>NaN</td>\n",
       "      <td>2</td>\n",
       "      <td>4.24</td>\n",
       "      <td>18049</td>\n",
       "    </tr>\n",
       "    <tr>\n",
       "      <td>4284</td>\n",
       "      <td>D</td>\n",
       "      <td>Luiz1227</td>\n",
       "      <td>games</td>\n",
       "      <td>1</td>\n",
       "      <td>2.62</td>\n",
       "      <td>10392</td>\n",
       "    </tr>\n",
       "  </tbody>\n",
       "</table>\n",
       "<p>4940 rows × 6 columns</p>\n",
       "</div>"
      ],
      "text/plain": [
       "      ocena                         ime     kategorija  objave  vpisani  \\\n",
       "mesto                                                                     \n",
       "1       A++                    T-Series          music   13927   116.00   \n",
       "9       A++                   SET India  entertainment   33302    58.40   \n",
       "4       A++  Cocomelon - Nursery Rhymes      education     469    63.80   \n",
       "11       A+                         WWE         sports   44227    50.20   \n",
       "23      A++                      Zee TV  entertainment   80479    36.90   \n",
       "...     ...                         ...            ...     ...      ...   \n",
       "4527     A-                    NextFlix            NaN       6     2.52   \n",
       "4319     C+          Gjigandet e Vegjel            NaN       6     2.61   \n",
       "3161      C                   Тех.Обзор         people      12     3.23   \n",
       "2039     D-   NikiChiki - Детские пес�…            NaN       2     4.24   \n",
       "4284      D                    Luiz1227          games       1     2.62   \n",
       "\n",
       "            ogledi  \n",
       "mesto               \n",
       "1      87011278231  \n",
       "9      42305090305  \n",
       "4      42092956470  \n",
       "11     36777154026  \n",
       "23     34354338112  \n",
       "...            ...  \n",
       "4527         38879  \n",
       "4319         27582  \n",
       "3161         27498  \n",
       "2039         18049  \n",
       "4284         10392  \n",
       "\n",
       "[4940 rows x 6 columns]"
      ]
     },
     "execution_count": 19,
     "metadata": {},
     "output_type": "execute_result"
    }
   ],
   "source": [
    "podatki.sort_values(['ogledi', 'ocena'], ascending=[False, True])"
   ]
  },
  {
   "cell_type": "code",
   "execution_count": 54,
   "metadata": {},
   "outputs": [
    {
     "data": {
      "text/plain": [
       "ocena\n",
       "A       695\n",
       "A+       32\n",
       "A++       8\n",
       "A-     1434\n",
       "B       895\n",
       "B+     1606\n",
       "B-      125\n",
       "C         5\n",
       "C+       39\n",
       "C-        1\n",
       "D         2\n",
       "D-       98\n",
       "dtype: int64"
      ]
     },
     "execution_count": 54,
     "metadata": {},
     "output_type": "execute_result"
    }
   ],
   "source": [
    "ocene = podatki.groupby('ocena')\n",
    "ocene.size()"
   ]
  },
  {
   "cell_type": "markdown",
   "metadata": {},
   "source": [
    "Želimo izvedetei s kakšno oceno so večinoma ocenjeni kanali, ker je ocen veliko jih zberemo v štiri kategorije A, B, C, D."
   ]
  },
  {
   "cell_type": "code",
   "execution_count": 13,
   "metadata": {},
   "outputs": [],
   "source": [
    "ocena_A = podatki[(podatki.ocena == 'A')| (podatki.ocena == 'A+') | (podatki.ocena == 'A++') | (podatki.ocena == 'A-')]\n",
    "ocena_B = podatki[(podatki.ocena == 'B')| (podatki.ocena == 'B+') | (podatki.ocena == 'B-')]\n",
    "ocena_C = podatki[(podatki.ocena == 'C')| (podatki.ocena == 'C+') | (podatki.ocena == 'C-')]\n",
    "ocena_D = podatki[(podatki.ocena == 'D')| (podatki.ocena == 'D-')]"
   ]
  },
  {
   "cell_type": "code",
   "execution_count": 201,
   "metadata": {},
   "outputs": [
    {
     "data": {
      "text/plain": [
       "<matplotlib.axes._subplots.AxesSubplot at 0x1c0f8490>"
      ]
     },
     "execution_count": 201,
     "metadata": {},
     "output_type": "execute_result"
    },
    {
     "data": {
      "image/png": "[encoded data removed]",
      "text/plain": [
       "<Figure size 432x288 with 1 Axes>"
      ]
     },
     "metadata": {
      "needs_background": "light"
     },
     "output_type": "display_data"
    }
   ],
   "source": [
    "a = ocena_A.ime.count()\n",
    "b = ocena_B.ime.count()\n",
    "c = ocena_C.ime.count()\n",
    "d = ocena_D.ime.count()\n",
    "\n",
    "pogrupirana_ocena = {'A' : a,'B' : b,'C':c,'D':d }\n",
    "graf = pd.DataFrame.from_dict(pogrupirana_ocena, 'index')\n",
    "graf.columns = ['število ocenjenih']\n",
    "graf.plot(kind = 'bar')\n"
   ]
  },
  {
   "cell_type": "markdown",
   "metadata": {},
   "source": [
    "Tako lahko hitro opazimo, da je največ ocenjih z B takoj za tem pa z oceno A, kar je nekako pričakovan, da so kanali z največ vpisanimi tudi najbolj priljubljeni oz. dobro ocenjeni."
   ]
  },
  {
   "cell_type": "code",
   "execution_count": 81,
   "metadata": {},
   "outputs": [
    {
     "name": "stderr",
     "output_type": "stream",
     "text": [
      "C:\\Users\\tanja\\AppData\\Roaming\\Python\\Python36\\site-packages\\ipykernel_launcher.py:2: UserWarning: Boolean Series key will be reindexed to match DataFrame index.\n",
      "  \n"
     ]
    },
    {
     "data": {
      "text/html": [
       "<div>\n",
       "<style scoped>\n",
       "    .dataframe tbody tr th:only-of-type {\n",
       "        vertical-align: middle;\n",
       "    }\n",
       "\n",
       "    .dataframe tbody tr th {\n",
       "        vertical-align: top;\n",
       "    }\n",
       "\n",
       "    .dataframe thead th {\n",
       "        text-align: right;\n",
       "    }\n",
       "</style>\n",
       "<table border=\"1\" class=\"dataframe\">\n",
       "  <thead>\n",
       "    <tr style=\"text-align: right;\">\n",
       "      <th></th>\n",
       "      <th>ocena</th>\n",
       "      <th>ime</th>\n",
       "      <th>kategorija</th>\n",
       "      <th>objave</th>\n",
       "      <th>vpisani</th>\n",
       "      <th>ogledi</th>\n",
       "    </tr>\n",
       "    <tr>\n",
       "      <th>mesto</th>\n",
       "      <th></th>\n",
       "      <th></th>\n",
       "      <th></th>\n",
       "      <th></th>\n",
       "      <th></th>\n",
       "      <th></th>\n",
       "    </tr>\n",
       "  </thead>\n",
       "  <tbody>\n",
       "    <tr>\n",
       "      <td>1</td>\n",
       "      <td>A++</td>\n",
       "      <td>T-Series</td>\n",
       "      <td>music</td>\n",
       "      <td>13927</td>\n",
       "      <td>116.0</td>\n",
       "      <td>87011278231</td>\n",
       "    </tr>\n",
       "    <tr>\n",
       "      <td>2</td>\n",
       "      <td>A</td>\n",
       "      <td>PewDiePie</td>\n",
       "      <td>entertainment</td>\n",
       "      <td>3991</td>\n",
       "      <td>102.0</td>\n",
       "      <td>23798731725</td>\n",
       "    </tr>\n",
       "    <tr>\n",
       "      <td>4</td>\n",
       "      <td>A++</td>\n",
       "      <td>Cocomelon - Nursery Rhymes</td>\n",
       "      <td>education</td>\n",
       "      <td>469</td>\n",
       "      <td>63.8</td>\n",
       "      <td>42092956470</td>\n",
       "    </tr>\n",
       "    <tr>\n",
       "      <td>8</td>\n",
       "      <td>A</td>\n",
       "      <td>5-Minute Crafts</td>\n",
       "      <td>howto</td>\n",
       "      <td>3748</td>\n",
       "      <td>61.7</td>\n",
       "      <td>16163442260</td>\n",
       "    </tr>\n",
       "    <tr>\n",
       "      <td>9</td>\n",
       "      <td>A++</td>\n",
       "      <td>SET India</td>\n",
       "      <td>entertainment</td>\n",
       "      <td>33302</td>\n",
       "      <td>58.4</td>\n",
       "      <td>42305090305</td>\n",
       "    </tr>\n",
       "    <tr>\n",
       "      <td>10</td>\n",
       "      <td>A+</td>\n",
       "      <td>Canal KondZilla</td>\n",
       "      <td>music</td>\n",
       "      <td>1213</td>\n",
       "      <td>52.9</td>\n",
       "      <td>26950843861</td>\n",
       "    </tr>\n",
       "    <tr>\n",
       "      <td>11</td>\n",
       "      <td>A+</td>\n",
       "      <td>WWE</td>\n",
       "      <td>sports</td>\n",
       "      <td>44227</td>\n",
       "      <td>50.2</td>\n",
       "      <td>36777154026</td>\n",
       "    </tr>\n",
       "  </tbody>\n",
       "</table>\n",
       "</div>"
      ],
      "text/plain": [
       "      ocena                         ime     kategorija  objave  vpisani  \\\n",
       "mesto                                                                     \n",
       "1       A++                    T-Series          music   13927    116.0   \n",
       "2         A                   PewDiePie  entertainment    3991    102.0   \n",
       "4       A++  Cocomelon - Nursery Rhymes      education     469     63.8   \n",
       "8         A             5-Minute Crafts          howto    3748     61.7   \n",
       "9       A++                   SET India  entertainment   33302     58.4   \n",
       "10       A+             Canal KondZilla          music    1213     52.9   \n",
       "11       A+                         WWE         sports   44227     50.2   \n",
       "\n",
       "            ogledi  \n",
       "mesto               \n",
       "1      87011278231  \n",
       "2      23798731725  \n",
       "4      42092956470  \n",
       "8      16163442260  \n",
       "9      42305090305  \n",
       "10     26950843861  \n",
       "11     36777154026  "
      ]
     },
     "execution_count": 81,
     "metadata": {},
     "output_type": "execute_result"
    }
   ],
   "source": [
    "ocena_A[(podatki.vpisani > 50.00) &\n",
    "        (podatki.ogledi > 10000000000)]"
   ]
  },
  {
   "cell_type": "code",
   "execution_count": 94,
   "metadata": {},
   "outputs": [
    {
     "data": {
      "text/html": [
       "<div>\n",
       "<style scoped>\n",
       "    .dataframe tbody tr th:only-of-type {\n",
       "        vertical-align: middle;\n",
       "    }\n",
       "\n",
       "    .dataframe tbody tr th {\n",
       "        vertical-align: top;\n",
       "    }\n",
       "\n",
       "    .dataframe thead th {\n",
       "        text-align: right;\n",
       "    }\n",
       "</style>\n",
       "<table border=\"1\" class=\"dataframe\">\n",
       "  <thead>\n",
       "    <tr style=\"text-align: right;\">\n",
       "      <th></th>\n",
       "      <th>ocena</th>\n",
       "      <th>ime</th>\n",
       "      <th>kategorija</th>\n",
       "      <th>objave</th>\n",
       "      <th>vpisani</th>\n",
       "      <th>ogledi</th>\n",
       "    </tr>\n",
       "    <tr>\n",
       "      <th>mesto</th>\n",
       "      <th></th>\n",
       "      <th></th>\n",
       "      <th></th>\n",
       "      <th></th>\n",
       "      <th></th>\n",
       "      <th></th>\n",
       "    </tr>\n",
       "  </thead>\n",
       "  <tbody>\n",
       "    <tr>\n",
       "      <td>112</td>\n",
       "      <td>D-</td>\n",
       "      <td>The Late Late Show with James Cord…</td>\n",
       "      <td>entertainment</td>\n",
       "      <td>3663</td>\n",
       "      <td>20.80</td>\n",
       "      <td>6427238448</td>\n",
       "    </tr>\n",
       "    <tr>\n",
       "      <td>170</td>\n",
       "      <td>D-</td>\n",
       "      <td>Amit Bhadana</td>\n",
       "      <td>entertainment</td>\n",
       "      <td>64</td>\n",
       "      <td>17.00</td>\n",
       "      <td>1268368226</td>\n",
       "    </tr>\n",
       "    <tr>\n",
       "      <td>218</td>\n",
       "      <td>D</td>\n",
       "      <td>Michael Jackson</td>\n",
       "      <td>music</td>\n",
       "      <td>1</td>\n",
       "      <td>15.10</td>\n",
       "      <td>262345</td>\n",
       "    </tr>\n",
       "    <tr>\n",
       "      <td>387</td>\n",
       "      <td>D-</td>\n",
       "      <td>Blossom</td>\n",
       "      <td>howto</td>\n",
       "      <td>271</td>\n",
       "      <td>11.40</td>\n",
       "      <td>3007736253</td>\n",
       "    </tr>\n",
       "    <tr>\n",
       "      <td>410</td>\n",
       "      <td>D-</td>\n",
       "      <td>HiMan</td>\n",
       "      <td>people</td>\n",
       "      <td>143</td>\n",
       "      <td>11.10</td>\n",
       "      <td>783665179</td>\n",
       "    </tr>\n",
       "    <tr>\n",
       "      <td>...</td>\n",
       "      <td>...</td>\n",
       "      <td>...</td>\n",
       "      <td>...</td>\n",
       "      <td>...</td>\n",
       "      <td>...</td>\n",
       "      <td>...</td>\n",
       "    </tr>\n",
       "    <tr>\n",
       "      <td>4471</td>\n",
       "      <td>D-</td>\n",
       "      <td>Vasya - Nursery Rhymes &amp;amp; Kids Songs</td>\n",
       "      <td>NaN</td>\n",
       "      <td>58</td>\n",
       "      <td>2.54</td>\n",
       "      <td>421706131</td>\n",
       "    </tr>\n",
       "    <tr>\n",
       "      <td>4630</td>\n",
       "      <td>D-</td>\n",
       "      <td>Chance and Anthony</td>\n",
       "      <td>NaN</td>\n",
       "      <td>5</td>\n",
       "      <td>2.48</td>\n",
       "      <td>9941215</td>\n",
       "    </tr>\n",
       "    <tr>\n",
       "      <td>4674</td>\n",
       "      <td>D-</td>\n",
       "      <td>Tatiana</td>\n",
       "      <td>music</td>\n",
       "      <td>497</td>\n",
       "      <td>2.47</td>\n",
       "      <td>1116564802</td>\n",
       "    </tr>\n",
       "    <tr>\n",
       "      <td>4907</td>\n",
       "      <td>D-</td>\n",
       "      <td>GOLAZO TV</td>\n",
       "      <td>sports</td>\n",
       "      <td>46</td>\n",
       "      <td>2.39</td>\n",
       "      <td>96494632</td>\n",
       "    </tr>\n",
       "    <tr>\n",
       "      <td>4957</td>\n",
       "      <td>D-</td>\n",
       "      <td>Supernanny</td>\n",
       "      <td>entertainment</td>\n",
       "      <td>995</td>\n",
       "      <td>2.37</td>\n",
       "      <td>1121612086</td>\n",
       "    </tr>\n",
       "  </tbody>\n",
       "</table>\n",
       "<p>100 rows × 6 columns</p>\n",
       "</div>"
      ],
      "text/plain": [
       "      ocena                                      ime     kategorija  objave  \\\n",
       "mesto                                                                         \n",
       "112      D-      The Late Late Show with James Cord…  entertainment    3663   \n",
       "170      D-                             Amit Bhadana  entertainment      64   \n",
       "218       D                          Michael Jackson          music       1   \n",
       "387      D-                                  Blossom          howto     271   \n",
       "410      D-                                    HiMan         people     143   \n",
       "...     ...                                      ...            ...     ...   \n",
       "4471     D-  Vasya - Nursery Rhymes &amp; Kids Songs            NaN      58   \n",
       "4630     D-                       Chance and Anthony            NaN       5   \n",
       "4674     D-                                  Tatiana          music     497   \n",
       "4907     D-                                GOLAZO TV         sports      46   \n",
       "4957     D-                               Supernanny  entertainment     995   \n",
       "\n",
       "       vpisani      ogledi  \n",
       "mesto                       \n",
       "112      20.80  6427238448  \n",
       "170      17.00  1268368226  \n",
       "218      15.10      262345  \n",
       "387      11.40  3007736253  \n",
       "410      11.10   783665179  \n",
       "...        ...         ...  \n",
       "4471      2.54   421706131  \n",
       "4630      2.48     9941215  \n",
       "4674      2.47  1116564802  \n",
       "4907      2.39    96494632  \n",
       "4957      2.37  1121612086  \n",
       "\n",
       "[100 rows x 6 columns]"
      ]
     },
     "execution_count": 94,
     "metadata": {},
     "output_type": "execute_result"
    }
   ],
   "source": [
    "ocena_D"
   ]
  },
  {
   "cell_type": "markdown",
   "metadata": {},
   "source": [
    "Iz prve tabele opazimo, da so med prvimi desetimi vsi ocenjeni z A. Iz druge tabele, pa lahko razberemo, da na prvih sto mestih ni noben kanal ocenjen z najslabšo oceno D. To še dodatno potrjuje, da so tisti kanali z več vpisanimi tudi bolje ocenjeni.\n"
   ]
  },
  {
   "cell_type": "markdown",
   "metadata": {},
   "source": [
    "## Povezava med objavami ter kategorijami"
   ]
  },
  {
   "cell_type": "markdown",
   "metadata": {},
   "source": [
    "Želimo ugotovit ali je število objav povezano s številom vpisanih, ter s čim je povezano število objav.\n",
    "Najprej poglejmo koliko je najpogosteje število objav, za boljšo preglednost pogledamo le do 15 000 objav. Opazimo da večina kanalov ima manj kot 1000 objav."
   ]
  },
  {
   "cell_type": "code",
   "execution_count": 10,
   "metadata": {},
   "outputs": [
    {
     "data": {
      "text/plain": [
       "<matplotlib.axes._subplots.AxesSubplot at 0xc87a8d0>"
      ]
     },
     "execution_count": 10,
     "metadata": {},
     "output_type": "execute_result"
    },
    {
     "data": {
      "image/png": "[encoded data removed]",
      "text/plain": [
       "<Figure size 1080x288 with 1 Axes>"
      ]
     },
     "metadata": {
      "needs_background": "light"
     },
     "output_type": "display_data"
    }
   ],
   "source": [
    "# pogrupiramo število objav na 1000\n",
    "podatki['zaokrozene_objave'] = 1000 * (podatki.objave // 1000)\n",
    "odstranimo_najvecje = podatki[podatki.objave < 15000]\n",
    "odstranimo_najvecje['zaokrozene_objave'].value_counts().sort_index(ascending=True).plot(kind = 'bar', figsize=(15, 4), title='Število objav')\n"
   ]
  },
  {
   "cell_type": "code",
   "execution_count": 11,
   "metadata": {},
   "outputs": [
    {
     "data": {
      "text/html": [
       "<div>\n",
       "<style scoped>\n",
       "    .dataframe tbody tr th:only-of-type {\n",
       "        vertical-align: middle;\n",
       "    }\n",
       "\n",
       "    .dataframe tbody tr th {\n",
       "        vertical-align: top;\n",
       "    }\n",
       "\n",
       "    .dataframe thead th {\n",
       "        text-align: right;\n",
       "    }\n",
       "</style>\n",
       "<table border=\"1\" class=\"dataframe\">\n",
       "  <thead>\n",
       "    <tr style=\"text-align: right;\">\n",
       "      <th></th>\n",
       "      <th>ocena</th>\n",
       "      <th>ime</th>\n",
       "      <th>kategorija</th>\n",
       "      <th>objave</th>\n",
       "      <th>vpisani</th>\n",
       "      <th>ogledi</th>\n",
       "      <th>zaokrozene_objave</th>\n",
       "    </tr>\n",
       "    <tr>\n",
       "      <th>mesto</th>\n",
       "      <th></th>\n",
       "      <th></th>\n",
       "      <th></th>\n",
       "      <th></th>\n",
       "      <th></th>\n",
       "      <th></th>\n",
       "      <th></th>\n",
       "    </tr>\n",
       "  </thead>\n",
       "  <tbody>\n",
       "    <tr>\n",
       "      <td>91</td>\n",
       "      <td>A+</td>\n",
       "      <td>ABS-CBN Entertainment</td>\n",
       "      <td>entertainment</td>\n",
       "      <td>137889</td>\n",
       "      <td>24.50</td>\n",
       "      <td>32844926984</td>\n",
       "      <td>137000</td>\n",
       "    </tr>\n",
       "    <tr>\n",
       "      <td>104</td>\n",
       "      <td>A</td>\n",
       "      <td>TEDx Talks</td>\n",
       "      <td>nonprofit</td>\n",
       "      <td>148664</td>\n",
       "      <td>22.80</td>\n",
       "      <td>4106522687</td>\n",
       "      <td>148000</td>\n",
       "    </tr>\n",
       "    <tr>\n",
       "      <td>162</td>\n",
       "      <td>A</td>\n",
       "      <td>ABP NEWS</td>\n",
       "      <td>news</td>\n",
       "      <td>137255</td>\n",
       "      <td>18.30</td>\n",
       "      <td>4564342641</td>\n",
       "      <td>137000</td>\n",
       "    </tr>\n",
       "    <tr>\n",
       "      <td>201</td>\n",
       "      <td>A</td>\n",
       "      <td>IndiaTV</td>\n",
       "      <td>entertainment</td>\n",
       "      <td>150210</td>\n",
       "      <td>16.20</td>\n",
       "      <td>5712180543</td>\n",
       "      <td>150000</td>\n",
       "    </tr>\n",
       "    <tr>\n",
       "      <td>328</td>\n",
       "      <td>A</td>\n",
       "      <td>IGN</td>\n",
       "      <td>games</td>\n",
       "      <td>136038</td>\n",
       "      <td>12.80</td>\n",
       "      <td>9921822723</td>\n",
       "      <td>136000</td>\n",
       "    </tr>\n",
       "    <tr>\n",
       "      <td>...</td>\n",
       "      <td>...</td>\n",
       "      <td>...</td>\n",
       "      <td>...</td>\n",
       "      <td>...</td>\n",
       "      <td>...</td>\n",
       "      <td>...</td>\n",
       "      <td>...</td>\n",
       "    </tr>\n",
       "    <tr>\n",
       "      <td>3498</td>\n",
       "      <td>A-</td>\n",
       "      <td>News7 Tamil</td>\n",
       "      <td>news</td>\n",
       "      <td>124440</td>\n",
       "      <td>3.20</td>\n",
       "      <td>1213254854</td>\n",
       "      <td>124000</td>\n",
       "    </tr>\n",
       "    <tr>\n",
       "      <td>3751</td>\n",
       "      <td>A</td>\n",
       "      <td>SBS Drama</td>\n",
       "      <td>entertainment</td>\n",
       "      <td>339896</td>\n",
       "      <td>3.10</td>\n",
       "      <td>2966001111</td>\n",
       "      <td>339000</td>\n",
       "    </tr>\n",
       "    <tr>\n",
       "      <td>4168</td>\n",
       "      <td>B+</td>\n",
       "      <td>VideoYoum7 | قناة اليوم �&amp;hellip;</td>\n",
       "      <td>entertainment</td>\n",
       "      <td>107675</td>\n",
       "      <td>2.83</td>\n",
       "      <td>1188221850</td>\n",
       "      <td>107000</td>\n",
       "    </tr>\n",
       "    <tr>\n",
       "      <td>4200</td>\n",
       "      <td>A</td>\n",
       "      <td>Manorama News</td>\n",
       "      <td>news</td>\n",
       "      <td>173629</td>\n",
       "      <td>2.83</td>\n",
       "      <td>1727688309</td>\n",
       "      <td>173000</td>\n",
       "    </tr>\n",
       "    <tr>\n",
       "      <td>4282</td>\n",
       "      <td>A-</td>\n",
       "      <td>Polimer News</td>\n",
       "      <td>news</td>\n",
       "      <td>117257</td>\n",
       "      <td>2.78</td>\n",
       "      <td>1442536573</td>\n",
       "      <td>117000</td>\n",
       "    </tr>\n",
       "  </tbody>\n",
       "</table>\n",
       "<p>28 rows × 7 columns</p>\n",
       "</div>"
      ],
      "text/plain": [
       "      ocena                                ime     kategorija  objave  \\\n",
       "mesto                                                                   \n",
       "91       A+              ABS-CBN Entertainment  entertainment  137889   \n",
       "104       A                         TEDx Talks      nonprofit  148664   \n",
       "162       A                           ABP NEWS           news  137255   \n",
       "201       A                            IndiaTV  entertainment  150210   \n",
       "328       A                                IGN          games  136038   \n",
       "...     ...                                ...            ...     ...   \n",
       "3498     A-                        News7 Tamil           news  124440   \n",
       "3751      A                          SBS Drama  entertainment  339896   \n",
       "4168     B+  VideoYoum7 | قناة اليوم �&hellip;  entertainment  107675   \n",
       "4200      A                      Manorama News           news  173629   \n",
       "4282     A-                       Polimer News           news  117257   \n",
       "\n",
       "       vpisani       ogledi  zaokrozene_objave  \n",
       "mesto                                           \n",
       "91       24.50  32844926984             137000  \n",
       "104      22.80   4106522687             148000  \n",
       "162      18.30   4564342641             137000  \n",
       "201      16.20   5712180543             150000  \n",
       "328      12.80   9921822723             136000  \n",
       "...        ...          ...                ...  \n",
       "3498      3.20   1213254854             124000  \n",
       "3751      3.10   2966001111             339000  \n",
       "4168      2.83   1188221850             107000  \n",
       "4200      2.83   1727688309             173000  \n",
       "4282      2.78   1442536573             117000  \n",
       "\n",
       "[28 rows x 7 columns]"
      ]
     },
     "execution_count": 11,
     "metadata": {},
     "output_type": "execute_result"
    }
   ],
   "source": [
    "aktivni_youtuberji = podatki[podatki.objave > 100000]\n",
    "aktivni_youtuberji"
   ]
  },
  {
   "cell_type": "markdown",
   "metadata": {},
   "source": [
    "V zgornji razpredelnici so prikazani tisti kanalo ki imajo nadpovprečno število objav. Presentljivo je dejstvo, da ima najbolj aktiven kanal več kot 130 000 objav, kar je 130-krat več kot povprečen kanal. Opazimo tudi, da mesta, ki jih dosegajo kanali z več objavami niso ravno visoka. Iz tega sklepamo, da večje število objav ne zagotovi tudi več vpisanih."
   ]
  },
  {
   "cell_type": "code",
   "execution_count": 35,
   "metadata": {},
   "outputs": [
    {
     "data": {
      "text/plain": [
       "<matplotlib.axes._subplots.AxesSubplot at 0x694d630>"
      ]
     },
     "execution_count": 35,
     "metadata": {},
     "output_type": "execute_result"
    },
    {
     "data": {
      "image/png": "[encoded data removed]",
      "text/plain": [
       "<Figure size 576x360 with 1 Axes>"
      ]
     },
     "metadata": {
      "needs_background": "light"
     },
     "output_type": "display_data"
    }
   ],
   "source": [
    "odstranimo_najvecje = podatki[podatki.objave < 15000]\n",
    "odstranimo_najvecje['zaokrozene_objave'].plot( figsize=(8, 5))"
   ]
  },
  {
   "cell_type": "markdown",
   "metadata": {},
   "source": [
    "Ni očitne povezave med število objav ter mestom na lestvici."
   ]
  },
  {
   "cell_type": "markdown",
   "metadata": {},
   "source": [
    "Če pogledamo kakšna je poevzava med aktivnejšimi kanali ter kategorijami, opazimo, da so to večinoma kanali z novicami. Če premislimo je razlog očiten, saj novice objavljajo vsak dan, povprečen kanal pa nekje enkrat na teden. Tako lahko sklepamo, da je število objav tesneje povezano s kategorijo, kot pa s številom vpisanih (posledično mestom na lestvici)."
   ]
  },
  {
   "cell_type": "code",
   "execution_count": 150,
   "metadata": {},
   "outputs": [
    {
     "data": {
      "text/plain": [
       "<matplotlib.axes._subplots.AxesSubplot at 0x1c7095b0>"
      ]
     },
     "execution_count": 150,
     "metadata": {},
     "output_type": "execute_result"
    },
    {
     "data": {
      "image/png": "[encoded data removed]",
      "text/plain": [
       "<Figure size 1440x360 with 1 Axes>"
      ]
     },
     "metadata": {
      "needs_background": "light"
     },
     "output_type": "display_data"
    }
   ],
   "source": [
    "aktivni_youtuberji['kategorija'].value_counts().head(20).plot(kind = 'bar', figsize=(20, 5), title='najbolj priljubljene kategorije')"
   ]
  },
  {
   "cell_type": "markdown",
   "metadata": {},
   "source": [
    "Zanimiv je tudi podatek o tem, katere kategorije so najbolj pogoste. Največkrat se pojavi *entertainment*, najverjetneje so tu vsi kanali, ki jih težko razporedimo v neko specifično kategorijo, zato je teh največ."
   ]
  },
  {
   "cell_type": "code",
   "execution_count": 80,
   "metadata": {},
   "outputs": [
    {
     "data": {
      "text/html": [
       "<div>\n",
       "<style scoped>\n",
       "    .dataframe tbody tr th:only-of-type {\n",
       "        vertical-align: middle;\n",
       "    }\n",
       "\n",
       "    .dataframe tbody tr th {\n",
       "        vertical-align: top;\n",
       "    }\n",
       "\n",
       "    .dataframe thead th {\n",
       "        text-align: right;\n",
       "    }\n",
       "</style>\n",
       "<table border=\"1\" class=\"dataframe\">\n",
       "  <thead>\n",
       "    <tr style=\"text-align: right;\">\n",
       "      <th></th>\n",
       "      <th>pojavitev</th>\n",
       "    </tr>\n",
       "    <tr>\n",
       "      <th>kategorija</th>\n",
       "      <th></th>\n",
       "    </tr>\n",
       "  </thead>\n",
       "  <tbody>\n",
       "    <tr>\n",
       "      <td>animals</td>\n",
       "      <td>14</td>\n",
       "    </tr>\n",
       "    <tr>\n",
       "      <td>autos</td>\n",
       "      <td>27</td>\n",
       "    </tr>\n",
       "    <tr>\n",
       "      <td>comedy</td>\n",
       "      <td>332</td>\n",
       "    </tr>\n",
       "    <tr>\n",
       "      <td>education</td>\n",
       "      <td>198</td>\n",
       "    </tr>\n",
       "    <tr>\n",
       "      <td>entertainment</td>\n",
       "      <td>1340</td>\n",
       "    </tr>\n",
       "    <tr>\n",
       "      <td>film</td>\n",
       "      <td>242</td>\n",
       "    </tr>\n",
       "    <tr>\n",
       "      <td>games</td>\n",
       "      <td>515</td>\n",
       "    </tr>\n",
       "    <tr>\n",
       "      <td>howto</td>\n",
       "      <td>260</td>\n",
       "    </tr>\n",
       "    <tr>\n",
       "      <td>music</td>\n",
       "      <td>887</td>\n",
       "    </tr>\n",
       "    <tr>\n",
       "      <td>news</td>\n",
       "      <td>94</td>\n",
       "    </tr>\n",
       "    <tr>\n",
       "      <td>nonprofit</td>\n",
       "      <td>7</td>\n",
       "    </tr>\n",
       "    <tr>\n",
       "      <td>people</td>\n",
       "      <td>446</td>\n",
       "    </tr>\n",
       "    <tr>\n",
       "      <td>shows</td>\n",
       "      <td>1</td>\n",
       "    </tr>\n",
       "    <tr>\n",
       "      <td>sports</td>\n",
       "      <td>75</td>\n",
       "    </tr>\n",
       "    <tr>\n",
       "      <td>tech</td>\n",
       "      <td>95</td>\n",
       "    </tr>\n",
       "    <tr>\n",
       "      <td>travel</td>\n",
       "      <td>11</td>\n",
       "    </tr>\n",
       "  </tbody>\n",
       "</table>\n",
       "</div>"
      ],
      "text/plain": [
       "               pojavitev\n",
       "kategorija              \n",
       "animals               14\n",
       "autos                 27\n",
       "comedy               332\n",
       "education            198\n",
       "entertainment       1340\n",
       "film                 242\n",
       "games                515\n",
       "howto                260\n",
       "music                887\n",
       "news                  94\n",
       "nonprofit              7\n",
       "people               446\n",
       "shows                  1\n",
       "sports                75\n",
       "tech                  95\n",
       "travel                11"
      ]
     },
     "execution_count": 80,
     "metadata": {},
     "output_type": "execute_result"
    }
   ],
   "source": [
    "najpogostejše_kategorije = podatki.groupby('kategorija')\n",
    "najpogostejše_kategorije.size().to_frame('pojavitev')"
   ]
  },
  {
   "cell_type": "code",
   "execution_count": 79,
   "metadata": {},
   "outputs": [
    {
     "data": {
      "text/plain": [
       "<matplotlib.axes._subplots.AxesSubplot at 0xdcd4ef0>"
      ]
     },
     "execution_count": 79,
     "metadata": {},
     "output_type": "execute_result"
    },
    {
     "data": {
      "image/png": "[encoded data removed]",
      "text/plain": [
       "<Figure size 360x360 with 1 Axes>"
      ]
     },
     "metadata": {},
     "output_type": "display_data"
    }
   ],
   "source": [
    "podatki['kategorija'].value_counts().head(10).plot(kind = 'pie',  figsize=(5, 5), title='najbolj pogoste kategorije', fontsize = '12')"
   ]
  },
  {
   "cell_type": "markdown",
   "metadata": {},
   "source": [
    "Če pogledamo samo tiste kanale z največ vpisanimih se prav tako največkrat pojavita katrgoriji *music* in *entertainment*."
   ]
  },
  {
   "cell_type": "code",
   "execution_count": 225,
   "metadata": {},
   "outputs": [
    {
     "data": {
      "text/plain": [
       "<matplotlib.axes._subplots.AxesSubplot at 0x3881e370>"
      ]
     },
     "execution_count": 225,
     "metadata": {},
     "output_type": "execute_result"
    },
    {
     "data": {
      "image/png": "[encoded data removed]",
      "text/plain": [
       "<Figure size 360x360 with 1 Axes>"
      ]
     },
     "metadata": {},
     "output_type": "display_data"
    }
   ],
   "source": [
    "prvi = podatki[podatki.vpisani > 30.00]\n",
    "prvi['kategorija'].value_counts().head(10).plot(kind = 'pie',  figsize=(5, 5), title='najbolj priljubljene kategorije', fontsize = '12')"
   ]
  },
  {
   "cell_type": "code",
   "execution_count": 14,
   "metadata": {},
   "outputs": [
    {
     "data": {
      "text/plain": [
       "<matplotlib.axes._subplots.AxesSubplot at 0xf7c7f70>"
      ]
     },
     "execution_count": 14,
     "metadata": {},
     "output_type": "execute_result"
    },
    {
     "data": {
      "image/png": "[encoded data removed]",
      "text/plain": [
       "<Figure size 360x360 with 1 Axes>"
      ]
     },
     "metadata": {},
     "output_type": "display_data"
    }
   ],
   "source": [
    "ocena_A['kategorija'].value_counts().head(10).plot(kind = 'pie',  figsize=(5, 5), title='najbolj priljubljene kategorije', fontsize = '12')"
   ]
  },
  {
   "cell_type": "markdown",
   "metadata": {},
   "source": [
    "## Odvisnost od števila ogledov"
   ]
  },
  {
   "cell_type": "markdown",
   "metadata": {},
   "source": [
    "Preverimo še ali je res večje število ogledov povezano z večjim številom vpisanimih. Razvrstimo seznam po številu ogledov in opazimo takoj, da ima kanal na prvem mestu tudi največ ogledov. Preverimo ali je to le naključje."
   ]
  },
  {
   "cell_type": "code",
   "execution_count": 25,
   "metadata": {},
   "outputs": [
    {
     "data": {
      "text/plain": [
       "91"
      ]
     },
     "execution_count": 25,
     "metadata": {},
     "output_type": "execute_result"
    }
   ],
   "source": [
    "podatki[podatki.ogledi > 10000000000 ].ime.count() "
   ]
  },
  {
   "cell_type": "code",
   "execution_count": 17,
   "metadata": {
    "scrolled": true
   },
   "outputs": [
    {
     "data": {
      "text/plain": [
       "96177195880"
      ]
     },
     "execution_count": 17,
     "metadata": {},
     "output_type": "execute_result"
    }
   ],
   "source": [
    "podatki['ogledi'].max()"
   ]
  },
  {
   "cell_type": "code",
   "execution_count": 16,
   "metadata": {},
   "outputs": [
    {
     "data": {
      "text/html": [
       "<div>\n",
       "<style scoped>\n",
       "    .dataframe tbody tr th:only-of-type {\n",
       "        vertical-align: middle;\n",
       "    }\n",
       "\n",
       "    .dataframe tbody tr th {\n",
       "        vertical-align: top;\n",
       "    }\n",
       "\n",
       "    .dataframe thead th {\n",
       "        text-align: right;\n",
       "    }\n",
       "</style>\n",
       "<table border=\"1\" class=\"dataframe\">\n",
       "  <thead>\n",
       "    <tr style=\"text-align: right;\">\n",
       "      <th></th>\n",
       "      <th>ime</th>\n",
       "      <th>ogledi</th>\n",
       "    </tr>\n",
       "    <tr>\n",
       "      <th>mesto</th>\n",
       "      <th></th>\n",
       "      <th></th>\n",
       "    </tr>\n",
       "  </thead>\n",
       "  <tbody>\n",
       "    <tr>\n",
       "      <td>1</td>\n",
       "      <td>T-Series</td>\n",
       "      <td>96177195880</td>\n",
       "    </tr>\n",
       "    <tr>\n",
       "      <td>4</td>\n",
       "      <td>Cocomelon - Nursery Rhymes</td>\n",
       "      <td>48846632332</td>\n",
       "    </tr>\n",
       "    <tr>\n",
       "      <td>9</td>\n",
       "      <td>SET India</td>\n",
       "      <td>46794371073</td>\n",
       "    </tr>\n",
       "    <tr>\n",
       "      <td>11</td>\n",
       "      <td>WWE</td>\n",
       "      <td>38793825406</td>\n",
       "    </tr>\n",
       "    <tr>\n",
       "      <td>22</td>\n",
       "      <td>Zee TV</td>\n",
       "      <td>38446611326</td>\n",
       "    </tr>\n",
       "    <tr>\n",
       "      <td>94</td>\n",
       "      <td>Ryan's World</td>\n",
       "      <td>35675915985</td>\n",
       "    </tr>\n",
       "    <tr>\n",
       "      <td>205</td>\n",
       "      <td>netd müzik</td>\n",
       "      <td>33423244671</td>\n",
       "    </tr>\n",
       "    <tr>\n",
       "      <td>91</td>\n",
       "      <td>ABS-CBN Entertainment</td>\n",
       "      <td>32844926984</td>\n",
       "    </tr>\n",
       "    <tr>\n",
       "      <td>36</td>\n",
       "      <td>Movieclips</td>\n",
       "      <td>31130504675</td>\n",
       "    </tr>\n",
       "    <tr>\n",
       "      <td>10</td>\n",
       "      <td>Canal KondZilla</td>\n",
       "      <td>28046311502</td>\n",
       "    </tr>\n",
       "    <tr>\n",
       "      <td>51</td>\n",
       "      <td>El Reino Infantil</td>\n",
       "      <td>26521270333</td>\n",
       "    </tr>\n",
       "    <tr>\n",
       "      <td>2</td>\n",
       "      <td>PewDiePie</td>\n",
       "      <td>24562405073</td>\n",
       "    </tr>\n",
       "    <tr>\n",
       "      <td>15</td>\n",
       "      <td>Like Nastya Vlog</td>\n",
       "      <td>23788916805</td>\n",
       "    </tr>\n",
       "    <tr>\n",
       "      <td>67</td>\n",
       "      <td>WorkpointOfficial</td>\n",
       "      <td>23148979166</td>\n",
       "    </tr>\n",
       "    <tr>\n",
       "      <td>12</td>\n",
       "      <td>Zee Music Company</td>\n",
       "      <td>23029425839</td>\n",
       "    </tr>\n",
       "    <tr>\n",
       "      <td>59</td>\n",
       "      <td>Маша и Медведь</td>\n",
       "      <td>22628301975</td>\n",
       "    </tr>\n",
       "    <tr>\n",
       "      <td>69</td>\n",
       "      <td>SAB TV</td>\n",
       "      <td>22515490459</td>\n",
       "    </tr>\n",
       "    <tr>\n",
       "      <td>48</td>\n",
       "      <td>Get Movies</td>\n",
       "      <td>22372780550</td>\n",
       "    </tr>\n",
       "    <tr>\n",
       "      <td>95</td>\n",
       "      <td>Little Baby Bum - Nursery Rhymes &amp;&amp;hellip;</td>\n",
       "      <td>21980162718</td>\n",
       "    </tr>\n",
       "    <tr>\n",
       "      <td>44</td>\n",
       "      <td>Wave Music</td>\n",
       "      <td>20784600576</td>\n",
       "    </tr>\n",
       "  </tbody>\n",
       "</table>\n",
       "</div>"
      ],
      "text/plain": [
       "                                              ime       ogledi\n",
       "mesto                                                         \n",
       "1                                        T-Series  96177195880\n",
       "4                      Cocomelon - Nursery Rhymes  48846632332\n",
       "9                                       SET India  46794371073\n",
       "11                                            WWE  38793825406\n",
       "22                                         Zee TV  38446611326\n",
       "94                                   Ryan's World  35675915985\n",
       "205                                    netd müzik  33423244671\n",
       "91                          ABS-CBN Entertainment  32844926984\n",
       "36                                     Movieclips  31130504675\n",
       "10                                Canal KondZilla  28046311502\n",
       "51                              El Reino Infantil  26521270333\n",
       "2                                       PewDiePie  24562405073\n",
       "15                               Like Nastya Vlog  23788916805\n",
       "67                              WorkpointOfficial  23148979166\n",
       "12                              Zee Music Company  23029425839\n",
       "59                                 Маша и Медведь  22628301975\n",
       "69                                         SAB TV  22515490459\n",
       "48                                     Get Movies  22372780550\n",
       "95     Little Baby Bum - Nursery Rhymes &&hellip;  21980162718\n",
       "44                                     Wave Music  20784600576"
      ]
     },
     "execution_count": 16,
     "metadata": {},
     "output_type": "execute_result"
    }
   ],
   "source": [
    "urejeni_po_ogledih = podatki.sort_values(by = 'ogledi', ascending = False)\n",
    "urejeni_po_ogledih[['ime', 'ogledi']].head(20)"
   ]
  },
  {
   "cell_type": "markdown",
   "metadata": {},
   "source": [
    "Iz razpredelnice opazmimo tudi, da ima kanal z največ vpisanimi enkrat večjo gledanost kot drugi na seznamu najbolj ogledanih kanalov. Zaradi te velike razlike ga bomo pri risanju grafa izpustili, tako bo rezultat bol pregleden."
   ]
  },
  {
   "cell_type": "code",
   "execution_count": 226,
   "metadata": {},
   "outputs": [
    {
     "data": {
      "text/plain": [
       "Text(0, 0.5, 'število ogledov')"
      ]
     },
     "execution_count": 226,
     "metadata": {},
     "output_type": "execute_result"
    },
    {
     "data": {
      "image/png": "[encoded data removed]",
      "text/plain": [
       "<Figure size 432x288 with 1 Axes>"
      ]
     },
     "metadata": {
      "needs_background": "light"
     },
     "output_type": "display_data"
    }
   ],
   "source": [
    "odstranimo_ekstreme = podatki[(podatki.ogledi < 96177195880)]\n",
    "plt = odstranimo_ekstreme['ogledi'].plot(kind = 'area', title='Povezava med številom ogledov in številom vpisanih', fontsize=13)\n",
    "plt.set_xlabel(\"mesto\")\n",
    "plt.set_ylabel(\"število ogledov\")"
   ]
  },
  {
   "cell_type": "markdown",
   "metadata": {},
   "source": [
    "Iz grafa opazimo, da imajo kanali višje na lestvici tudi več vpisanih, seveda pa so tudi izjeme."
   ]
  },
  {
   "cell_type": "code",
   "execution_count": 25,
   "metadata": {},
   "outputs": [
    {
     "data": {
      "text/plain": [
       "<matplotlib.axes._subplots.AxesSubplot at 0x12dd85f0>"
      ]
     },
     "execution_count": 25,
     "metadata": {},
     "output_type": "execute_result"
    },
    {
     "data": {
      "image/png": "[encoded data removed]",
      "text/plain": [
       "<Figure size 432x288 with 1 Axes>"
      ]
     },
     "metadata": {
      "needs_background": "light"
     },
     "output_type": "display_data"
    }
   ],
   "source": [
    "odstranimo_ekstreme2 = podatki[(podatki.objave < 40000) & (podatki.ogledi < 38793825406)]\n",
    "odstranimo_ekstreme2[['ogledi', 'objave']].plot.scatter('ogledi', 'objave')"
   ]
  },
  {
   "cell_type": "markdown",
   "metadata": {},
   "source": [
    "Iz grafa ni očitne povezave med število objav in številom ogledov. Ker je kar nekaj pikic na levem robu, sklepamo, da več bjav ne doprinese nujno večje gledanosti. Opazimo tudi, da večina kanalov ima manj kot 10 000 objav ter manj kot 5M oglrdov, saj so tam pike najbolj gosto razporejen. Oglejmo si podrobneje še to 'zgoščeno območje'.  večina pik je ba spodnjem trikotniku pod diagonalo."
   ]
  },
  {
   "cell_type": "code",
   "execution_count": 33,
   "metadata": {},
   "outputs": [
    {
     "data": {
      "text/plain": [
       "<matplotlib.axes._subplots.AxesSubplot at 0x68ceeb0>"
      ]
     },
     "execution_count": 33,
     "metadata": {},
     "output_type": "execute_result"
    },
    {
     "data": {
      "image/png": "[encoded data removed]",
      "text/plain": [
       "<Figure size 432x288 with 1 Axes>"
      ]
     },
     "metadata": {
      "needs_background": "light"
     },
     "output_type": "display_data"
    }
   ],
   "source": [
    "odstranimo_ekstreme2 = podatki[(podatki.objave < 1000) & (podatki.ogledi < 500000000)]\n",
    "odstranimo_ekstreme2[['ogledi', 'objave']].plot.scatter('ogledi', 'objave')"
   ]
  },
  {
   "cell_type": "code",
   "execution_count": 180,
   "metadata": {},
   "outputs": [
    {
     "data": {
      "text/plain": [
       "<matplotlib.axes._subplots.AxesSubplot at 0x1d17ea90>"
      ]
     },
     "execution_count": 180,
     "metadata": {},
     "output_type": "execute_result"
    },
    {
     "data": {
      "image/png": "[encoded data removed]",
      "text/plain": [
       "<Figure size 1440x216 with 1 Axes>"
      ]
     },
     "metadata": {
      "needs_background": "light"
     },
     "output_type": "display_data"
    }
   ],
   "source": [
    "prvih_10 = podatki.head(10)\n",
    "podatki_vpisani = prvih_1000.groupby('vpisani')\n",
    "podatki_vpisani[['objave']].mean().plot(figsize=(20, 3))"
   ]
  },
  {
   "cell_type": "markdown",
   "metadata": {},
   "source": []
  },
  {
   "cell_type": "markdown",
   "metadata": {},
   "source": [
    "## Zaključek"
   ]
  },
  {
   "cell_type": "markdown",
   "metadata": {},
   "source": [
    "Iz analize sem izvedela nekaj zanimivih podatkov. Nekatere moje hipteze so se potrdile. Kanali višje na lestvici imajo v splošnem višjo oceno ter večje število vpisanih. Presenetil me je podatek s številom objav, saj najaktivejši kanali ne spadajo med prvimi sto na lestvici. Število objav sem nato povezala z vrsto kanala oziroma njegovo kategorijo, kar je pojasnilo zakaj ne spadajo med prvo stoterico, saj so najaktivnejši večinoma novice medtem, ko so bolj priljubljene katogerije glsba in zabava."
   ]
  }
 ],
 "metadata": {
  "kernelspec": {
   "display_name": "Python 3",
   "language": "python",
   "name": "python3"
  },
  "language_info": {
   "codemirror_mode": {
    "name": "ipython",
    "version": 3
   },
   "file_extension": ".py",
   "mimetype": "text/x-python",
   "name": "python",
   "nbconvert_exporter": "python",
   "pygments_lexer": "ipython3",
   "version": "3.6.4"
  }
 },
 "nbformat": 4,
 "nbformat_minor": 2
}
